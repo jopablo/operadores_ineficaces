{
 "cells": [
  {
   "cell_type": "markdown",
   "metadata": {},
   "source": [
    "# Proyecto final. Telecomunicaciones: Identificación de operadores ineficaces."
   ]
  },
  {
   "cell_type": "markdown",
   "metadata": {},
   "source": [
    "El servicio de telefonía virtual CallMeMaybe está desarrollando una nueva función que brindará a los supervisores y las supervisores información sobre los operadores menos eficaces. Esto, con el fin de implementar nuevas estrategias para aumentar la productividad de los operadores y a su vez la satisfacción en los clientes."
   ]
  },
  {
   "cell_type": "markdown",
   "metadata": {},
   "source": [
    "## Objetivo General: Identificar operadores ineficaces\n",
    "Para detectar los operadores ineficaces se tomaron lo siguientes criterios: \n",
    "\n",
    "- Si tiene una gran cantidad de llamadas entrantes perdidas (internas y externas).\n",
    "- Un tiempo de espera prolongado para las llamadas entrantes. \n",
    "- Un número reducido de llamadas salientes."
   ]
  },
  {
   "cell_type": "markdown",
   "metadata": {},
   "source": [
    "## Descripción de los datos: \n",
    "\n",
    "Los datasets contienen información sobre el uso del servicio de telefonía virtual CallMeMaybe. Sus clientes son organizaciones que necesitan distribuir gran cantidad de llamadas entrantes entre varios operadores, o realizar llamadas salientes a través de sus operadores. Los operadores también pueden realizar llamadas internas para comunicarse entre ellos. Estas llamadas se realizan a través de la red de CallMeMaybe.\n",
    "\n",
    "El dataset comprimido `telecom_dataset_us.csv` contiene las siguientes columnas:\n",
    "\n",
    "- `user_id`: ID de la cuenta de cliente\n",
    "- `date`: fecha en la que se recuperaron las estadísticas\n",
    "- `direction`: \"dirección\" de llamada (`out` para saliente, `in` para entrante)\n",
    "- `internal`: si la llamada fue interna (entre los operadores de un cliente o clienta)\n",
    "- `operator_id`: identificador del operador\n",
    "- `is_missed_call`: si fue una llamada perdida\n",
    "- `calls_count`: número de llamadas\n",
    "- `call_duration`: duración de la llamada (sin incluir el tiempo de espera)\n",
    "- `total_call_duration`: duración de la llamada (incluido el tiempo de espera)\n",
    "\n",
    " \n",
    "\n",
    "El conjunto de datos `telecom_clients_us.csv` tiene las siguientes columnas:\n",
    "\n",
    "- `user_id`: ID de usuario/a\n",
    "- `tariff_plan`: tarifa actual de la clientela\n",
    "- `date_start`: fecha de registro de la clientela"
   ]
  },
  {
   "cell_type": "markdown",
   "metadata": {},
   "source": [
    "## EDA\n",
    "### Análisis Exploratorio de Datos\n",
    "\n",
    "En esta sección, tal como lo indica el objetivo, se busca identificar operadores ineficaces mediante el análisis de tres métricas clave: \n",
    "\n",
    "1. **Cantidad de llamadas perdidas**  \n",
    "   Para esta métrica, se analizarán las llamadas perdidas, diferenciándolas en tres categorías:  \n",
    "   - Llamadas perdidas internas por operador.  \n",
    "   - Llamadas perdidas externas por operador.  \n",
    "   - Llamadas perdidas totales por operador.  \n",
    "\n",
    "   Se debe generar una gráfica que destaque a los operadores con mayor cantidad de llamadas perdidas, enfocándose en la columna de llamadas totales. Además, es fundamental identificar los parámetros normales para esta métrica, por lo que se elaborará un diagrama de caja. Esto permitirá visualizar a los operadores que se encuentran fuera del rango habitual y establecer a partir de qué valores se les puede considerar ineficaces.  \n",
    "\n",
    "2. **Tiempo de espera prolongado en llamadas entrantes**  \n",
    "   En esta métrica, se analizará únicamente el tiempo de espera de las llamadas entrantes, excluyendo las realizadas por los operadores. Para ello, se aplicará un filtro que elimine las llamadas salientes. Luego, se graficarán los operadores con los mayores tiempos de espera en las llamadas entrantes. Finalmente, se generará un diagrama de caja para evaluar el comportamiento de los operadores en esta métrica y determinar los valores aceptables, a fin de identificar a quienes se consideren ineficaces.  \n",
    "\n",
    "3. **Cantidad de llamadas realizadas por los operadores**  \n",
    "   En esta métrica, se distinguirá entre llamadas realizadas y recibidas. Una vez aplicado el filtro correspondiente, se analizarán los datos y se generará una gráfica que muestre a los operadores con menor cantidad de llamadas realizadas. Posteriormente, se utilizará un diagrama de caja para visualizar los valores típicos esperados en esta métrica.  \n",
    "\n",
    "### Conclusión  \n",
    "Al completar el análisis de estas métricas, se podrá crear un nuevo DataFrame que identifique a los operadores que incumplen con los tres criterios mencionados. Esto permitirá determinar el tipo de capacitación que los supervisores deberán proporcionar para mejorar su desempeño. "
   ]
  },
  {
   "cell_type": "markdown",
   "metadata": {},
   "source": [
    "## Preprocesamiento de datos. \n"
   ]
  },
  {
   "cell_type": "markdown",
   "metadata": {},
   "source": [
    "### Procesamiento de Datos  \n",
    "\n",
    "Para el procesamiento de los datos, se llevarán a cabo las siguientes acciones:  \n",
    "\n",
    "1. **Eliminación de datos duplicados**  \n",
    "   Se eliminarán los datos duplicados, ya que podrían generar incoherencias en el análisis. Dado que la columna 'date' incluye la hora en que se realizó cada llamada, un dato duplicado podría indicar un error en la recopilación de información. Es recomendable consultar con los ingenieros de datos para determinar la causa de estos duplicados y confirmar cómo manejarlos.  \n",
    "\n",
    "2. **Manejo de valores nulos**  \n",
    "   El tratamiento de los valores nulos dependerá de la columna en cuestión:  \n",
    "   - En algunas métricas, se puede completar con el valor más común de la columna.  \n",
    "   - Para columnas como la de operadores, se puede asignar un valor como \"desconocido\", ya que al ser un string, no afectará el análisis.  \n",
    "\n",
    "3. **Uso del tipo de datos adecuado**  \n",
    "   - Cada columna deberá tener un tipo de dato correcto. Por ejemplo, las columnas de fechas deben transformarse a formatos adecuados para facilitar su manipulación.  \n",
    "   - Si es necesario, se crearán columnas adicionales para representar el día y el mes. Esto permitirá analizar el comportamiento de operadores que hayan sido agregados en el transcurso del estudio.  \n",
    "\n",
    "4. **Transformación de columnas categóricas**  \n",
    "   - Las columnas que contienen valores como 'in' y 'out' (para llamadas entrantes y salientes) serán transformadas a valores binarios (1 y 0).  \n",
    "   - Se utilizará una documentación adecuada (por ejemplo, un markdown) para explicar estas transformaciones. Esto simplificará la estructura de los datos y facilitará la creación de filtros y análisis posteriores.  \n",
    "   - Estos valores transformados también se emplearán para generar nuevas columnas y realizar operaciones matemáticas, como sumas, restas o multiplicaciones.  \n",
    "\n",
    "### Objetivo  \n",
    "Estas acciones garantizarán que los datos estén listos para el análisis, reduciendo errores y facilitando el manejo de las métricas clave. "
   ]
  },
  {
   "cell_type": "markdown",
   "metadata": {},
   "source": [
    "## Pruebas de Hipótesis  \n",
    "\n",
    "Las pruebas de hipótesis se realizarán de la siguiente manera:  \n",
    "\n",
    "#### **Hipótesis 1:**  \n",
    "No existe una relación significativa entre la duración total de una llamada y el tiempo de espera de un cliente. En otras palabras, la duración de una llamada no influye en el tiempo que un cliente pasa esperando para ser atendido.  \n",
    "\n",
    "- **Hipótesis nula (H₀):** No existe una relación significativa entre la duración total de las llamadas y el tiempo de espera. Es decir, la duración de una llamada no afecta el tiempo de espera de los clientes.  \n",
    "- **Hipótesis alternativa (H₁):** Existe una relación significativa entre la duración total de las llamadas y el tiempo de espera de los clientes.  \n",
    "\n",
    "#### **Hipótesis 2:**  \n",
    "El aumento en el volumen de llamadas genera un incremento en los tiempos de espera, lo que sugiere que un mayor número de llamadas podría saturar el sistema y alargar los tiempos de espera.  \n",
    "\n",
    "- **Hipótesis nula (H₀):** No existe una relación entre el número de llamadas (calls_count) y el tiempo de espera (waiting_time).  \n",
    "- **Hipótesis alternativa (H₁):** A mayor número de llamadas, mayor tiempo de espera, indicando una correlación positiva entre estas variables.  \n",
    "\n",
    "### Objetivo  \n",
    "Estas hipótesis serán evaluadas mediante pruebas estadísticas apropiadas, como análisis de correlación o regresión, para determinar si existe evidencia significativa que respalde o rechace las hipótesis nulas."
   ]
  },
  {
   "cell_type": "markdown",
   "metadata": {},
   "source": [
    "<div class=\"alert alert-block alert-success\">\n",
    "<b>Comentario del revisor (2da Iteración)</b> <a class=\"tocSkip\"></a>\n",
    "\n",
    "Buen trabajo con estos últimos cambios! Tienes un plan bastante bien estructurado y un notebook con una presentación excelente. Me gustaría dejarte algunos comentarios y recomendaciones para el avance de tu proyecto:\n",
    "\n",
    "- **Contexto y objetivos**: Incluye esta sección introductoria que ayude a entender el contexto del projecto, pero también sería bueno ser un poco más detallada en el problema que trabajarás, por que se realiza el proyecto, etc.\n",
    "\n",
    "- **Preprocesamiento de datos**: Es una parte escencial en tu proyecto y lo tienes bastante bien cubierto, felicidades!\n",
    "\n",
    "- **Análisis exploratorio**: En esta sección tienes muy bien cubierto los pasos para entender los datos con los que trabajas, te recomendaría incluir la revisión de datos atípicos que luego puedan llegar a causar alguna métrica errónea al final de tu proyecto.\n",
    "\n",
    "- **Prueba de hipótesis**: Determinar si tenemos una diferencia significativa en nuestra métrica objetivo es importante, por eso te recomiendo incluir esta sección en tu proyecto.\n",
    "\n",
    "- **Conclusiones y recomendaciones**: No olvides que esto debe ir al final de todos tus proyectos.\n",
    "    \n",
    "\n",
    "Adicional para tu presentación final también podrías preparar una presentación de slides y exportarlo a PDF para poder compartir y explicar tus hallazgos en tu proyecto final. Te recomiendo esto ya que a menudo en un entorno laboral esta será la forma más fácil de explicar los resultados sin mostrar algo tan técnico cómo el código en el notebook.\n",
    "    \n",
    "    \n",
    "Saludos!\n",
    "</div>"
   ]
  }
 ],
 "metadata": {
  "ExecuteTimeLog": [
   {
    "duration": 291,
    "start_time": "2024-12-04T19:24:02.313Z"
   },
   {
    "duration": 523,
    "start_time": "2024-12-04T19:24:42.851Z"
   },
   {
    "duration": 59,
    "start_time": "2024-12-04T19:25:24.454Z"
   },
   {
    "duration": 59,
    "start_time": "2024-12-04T19:29:16.593Z"
   },
   {
    "duration": 12,
    "start_time": "2024-12-04T19:31:04.809Z"
   },
   {
    "duration": 13,
    "start_time": "2024-12-04T19:31:14.922Z"
   },
   {
    "duration": 43,
    "start_time": "2024-12-04T19:31:18.501Z"
   },
   {
    "duration": 8,
    "start_time": "2024-12-04T19:31:19.892Z"
   },
   {
    "duration": 6,
    "start_time": "2024-12-04T19:31:20.415Z"
   },
   {
    "duration": 155,
    "start_time": "2024-12-11T02:58:42.767Z"
   },
   {
    "duration": 313,
    "start_time": "2024-12-11T02:58:48.116Z"
   },
   {
    "duration": 68,
    "start_time": "2024-12-11T02:58:48.431Z"
   },
   {
    "duration": 14,
    "start_time": "2024-12-11T02:58:48.500Z"
   },
   {
    "duration": 6,
    "start_time": "2024-12-11T02:58:48.516Z"
   },
   {
    "duration": 14,
    "start_time": "2024-12-11T02:58:59.933Z"
   },
   {
    "duration": 21,
    "start_time": "2024-12-11T02:59:21.608Z"
   },
   {
    "duration": 15,
    "start_time": "2024-12-11T03:00:11.572Z"
   },
   {
    "duration": 3,
    "start_time": "2024-12-11T03:02:45.300Z"
   },
   {
    "duration": 85,
    "start_time": "2024-12-11T03:04:14.571Z"
   },
   {
    "duration": 22,
    "start_time": "2024-12-11T03:04:37.777Z"
   },
   {
    "duration": 35,
    "start_time": "2024-12-11T03:05:29.694Z"
   },
   {
    "duration": 5,
    "start_time": "2024-12-11T03:05:51.180Z"
   },
   {
    "duration": 40,
    "start_time": "2024-12-11T03:05:56.857Z"
   },
   {
    "duration": 272,
    "start_time": "2024-12-11T03:06:03.289Z"
   },
   {
    "duration": 40,
    "start_time": "2024-12-11T03:06:03.563Z"
   },
   {
    "duration": 14,
    "start_time": "2024-12-11T03:06:03.604Z"
   },
   {
    "duration": 4,
    "start_time": "2024-12-11T03:06:03.620Z"
   },
   {
    "duration": 37,
    "start_time": "2024-12-11T03:06:03.626Z"
   },
   {
    "duration": 104,
    "start_time": "2024-12-11T03:06:03.665Z"
   },
   {
    "duration": 0,
    "start_time": "2024-12-11T03:06:03.770Z"
   },
   {
    "duration": 9,
    "start_time": "2024-12-11T03:06:56.121Z"
   },
   {
    "duration": 9,
    "start_time": "2024-12-11T03:09:17.897Z"
   },
   {
    "duration": 9,
    "start_time": "2024-12-11T03:16:50.282Z"
   },
   {
    "duration": 6,
    "start_time": "2024-12-11T03:17:02.542Z"
   },
   {
    "duration": 276,
    "start_time": "2024-12-11T22:25:17.611Z"
   },
   {
    "duration": 68,
    "start_time": "2024-12-11T22:25:17.889Z"
   },
   {
    "duration": 13,
    "start_time": "2024-12-11T22:25:17.958Z"
   },
   {
    "duration": 4,
    "start_time": "2024-12-11T22:25:17.973Z"
   },
   {
    "duration": 47,
    "start_time": "2024-12-11T22:25:17.979Z"
   },
   {
    "duration": 10,
    "start_time": "2024-12-11T22:25:18.029Z"
   },
   {
    "duration": 6,
    "start_time": "2024-12-11T22:25:18.041Z"
   },
   {
    "duration": 14,
    "start_time": "2024-12-11T22:31:28.006Z"
   },
   {
    "duration": 9,
    "start_time": "2024-12-11T22:33:42.096Z"
   },
   {
    "duration": 18,
    "start_time": "2024-12-11T22:34:11.854Z"
   },
   {
    "duration": 84,
    "start_time": "2024-12-11T22:47:52.061Z"
   },
   {
    "duration": 6,
    "start_time": "2024-12-11T22:50:08.585Z"
   },
   {
    "duration": 6,
    "start_time": "2024-12-11T22:50:15.254Z"
   },
   {
    "duration": 5,
    "start_time": "2024-12-11T22:50:24.879Z"
   },
   {
    "duration": 5,
    "start_time": "2024-12-11T22:50:34.540Z"
   },
   {
    "duration": 22,
    "start_time": "2024-12-11T22:54:33.442Z"
   },
   {
    "duration": 6,
    "start_time": "2024-12-11T22:54:43.089Z"
   },
   {
    "duration": 9,
    "start_time": "2024-12-11T22:55:59.844Z"
   },
   {
    "duration": 6,
    "start_time": "2024-12-11T22:56:09.017Z"
   },
   {
    "duration": 6,
    "start_time": "2024-12-11T22:56:43.464Z"
   },
   {
    "duration": 17,
    "start_time": "2024-12-11T22:57:04.663Z"
   },
   {
    "duration": 6,
    "start_time": "2024-12-11T23:15:35.353Z"
   },
   {
    "duration": 291,
    "start_time": "2024-12-11T23:16:04.174Z"
   },
   {
    "duration": 42,
    "start_time": "2024-12-11T23:16:04.468Z"
   },
   {
    "duration": 14,
    "start_time": "2024-12-11T23:16:04.511Z"
   },
   {
    "duration": 4,
    "start_time": "2024-12-11T23:16:04.526Z"
   },
   {
    "duration": 39,
    "start_time": "2024-12-11T23:16:04.532Z"
   },
   {
    "duration": 10,
    "start_time": "2024-12-11T23:16:04.572Z"
   },
   {
    "duration": 41,
    "start_time": "2024-12-11T23:16:04.583Z"
   },
   {
    "duration": 493,
    "start_time": "2024-12-11T23:16:04.626Z"
   },
   {
    "duration": 0,
    "start_time": "2024-12-11T23:16:05.124Z"
   },
   {
    "duration": 0,
    "start_time": "2024-12-11T23:16:05.125Z"
   },
   {
    "duration": 8,
    "start_time": "2024-12-11T23:34:24.037Z"
   },
   {
    "duration": 6,
    "start_time": "2024-12-11T23:34:32.768Z"
   },
   {
    "duration": 346,
    "start_time": "2024-12-12T16:50:57.432Z"
   },
   {
    "duration": 88,
    "start_time": "2024-12-12T16:50:57.780Z"
   },
   {
    "duration": 14,
    "start_time": "2024-12-12T16:50:57.870Z"
   },
   {
    "duration": 4,
    "start_time": "2024-12-12T16:50:57.886Z"
   },
   {
    "duration": 44,
    "start_time": "2024-12-12T16:50:57.892Z"
   },
   {
    "duration": 10,
    "start_time": "2024-12-12T16:50:57.938Z"
   },
   {
    "duration": 16,
    "start_time": "2024-12-12T16:50:57.950Z"
   },
   {
    "duration": 11,
    "start_time": "2024-12-12T16:50:57.968Z"
   },
   {
    "duration": 33,
    "start_time": "2024-12-12T16:50:57.981Z"
   },
   {
    "duration": 209,
    "start_time": "2024-12-12T16:50:58.016Z"
   },
   {
    "duration": 0,
    "start_time": "2024-12-12T16:50:58.227Z"
   },
   {
    "duration": 2274,
    "start_time": "2024-12-12T16:52:02.598Z"
   },
   {
    "duration": 63,
    "start_time": "2024-12-12T16:52:04.875Z"
   },
   {
    "duration": 13,
    "start_time": "2024-12-12T16:52:04.941Z"
   },
   {
    "duration": 3,
    "start_time": "2024-12-12T16:52:04.956Z"
   },
   {
    "duration": 57,
    "start_time": "2024-12-12T16:52:04.961Z"
   },
   {
    "duration": 10,
    "start_time": "2024-12-12T16:52:05.020Z"
   },
   {
    "duration": 17,
    "start_time": "2024-12-12T16:52:05.032Z"
   },
   {
    "duration": 10,
    "start_time": "2024-12-12T16:52:05.051Z"
   },
   {
    "duration": 6,
    "start_time": "2024-12-12T16:52:05.062Z"
   },
   {
    "duration": 286,
    "start_time": "2024-12-12T16:52:05.069Z"
   },
   {
    "duration": 0,
    "start_time": "2024-12-12T16:52:05.357Z"
   },
   {
    "duration": 423,
    "start_time": "2024-12-12T16:55:20.189Z"
   },
   {
    "duration": 81,
    "start_time": "2024-12-12T16:55:20.624Z"
   },
   {
    "duration": 12,
    "start_time": "2024-12-12T16:55:20.707Z"
   },
   {
    "duration": 6,
    "start_time": "2024-12-12T16:55:20.720Z"
   },
   {
    "duration": 13,
    "start_time": "2024-12-12T16:55:20.729Z"
   },
   {
    "duration": 41,
    "start_time": "2024-12-12T16:55:20.744Z"
   },
   {
    "duration": 10,
    "start_time": "2024-12-12T16:55:20.809Z"
   },
   {
    "duration": 19,
    "start_time": "2024-12-12T16:55:20.821Z"
   },
   {
    "duration": 3,
    "start_time": "2024-12-12T16:55:20.842Z"
   },
   {
    "duration": 225,
    "start_time": "2024-12-12T16:55:20.847Z"
   },
   {
    "duration": 0,
    "start_time": "2024-12-12T16:55:21.073Z"
   },
   {
    "duration": 0,
    "start_time": "2024-12-12T16:55:21.075Z"
   },
   {
    "duration": 28,
    "start_time": "2024-12-12T16:57:10.925Z"
   },
   {
    "duration": 19,
    "start_time": "2024-12-12T17:00:23.394Z"
   },
   {
    "duration": 19,
    "start_time": "2024-12-12T17:03:21.771Z"
   },
   {
    "duration": 10,
    "start_time": "2024-12-12T17:03:35.777Z"
   },
   {
    "duration": 7,
    "start_time": "2024-12-12T17:03:43.038Z"
   },
   {
    "duration": 8,
    "start_time": "2024-12-12T17:04:12.100Z"
   },
   {
    "duration": 7,
    "start_time": "2024-12-12T17:04:15.078Z"
   },
   {
    "duration": 40,
    "start_time": "2024-12-12T17:04:23.707Z"
   },
   {
    "duration": 7,
    "start_time": "2024-12-12T17:04:43.002Z"
   },
   {
    "duration": 4,
    "start_time": "2024-12-12T17:05:21.111Z"
   },
   {
    "duration": 397,
    "start_time": "2024-12-12T17:05:31.387Z"
   },
   {
    "duration": 87,
    "start_time": "2024-12-12T17:05:31.786Z"
   },
   {
    "duration": 11,
    "start_time": "2024-12-12T17:05:31.875Z"
   },
   {
    "duration": 4,
    "start_time": "2024-12-12T17:05:31.888Z"
   },
   {
    "duration": 48,
    "start_time": "2024-12-12T17:05:31.894Z"
   },
   {
    "duration": 9,
    "start_time": "2024-12-12T17:05:31.943Z"
   },
   {
    "duration": 3,
    "start_time": "2024-12-12T17:05:31.954Z"
   },
   {
    "duration": 17,
    "start_time": "2024-12-12T17:05:31.959Z"
   },
   {
    "duration": 35,
    "start_time": "2024-12-12T17:05:31.977Z"
   },
   {
    "duration": 5,
    "start_time": "2024-12-12T17:05:32.015Z"
   },
   {
    "duration": 222,
    "start_time": "2024-12-12T17:05:32.022Z"
   },
   {
    "duration": 0,
    "start_time": "2024-12-12T17:05:32.246Z"
   },
   {
    "duration": 10,
    "start_time": "2024-12-12T17:06:45.599Z"
   },
   {
    "duration": 12,
    "start_time": "2024-12-12T17:07:02.610Z"
   },
   {
    "duration": 9,
    "start_time": "2024-12-12T17:07:16.652Z"
   },
   {
    "duration": 13,
    "start_time": "2024-12-12T17:08:21.000Z"
   },
   {
    "duration": 6,
    "start_time": "2024-12-12T17:08:30.515Z"
   },
   {
    "duration": 7,
    "start_time": "2024-12-12T17:08:32.673Z"
   },
   {
    "duration": 6,
    "start_time": "2024-12-12T17:12:54.060Z"
   },
   {
    "duration": 247,
    "start_time": "2024-12-12T17:13:34.158Z"
   },
   {
    "duration": 196,
    "start_time": "2024-12-12T17:13:50.635Z"
   },
   {
    "duration": 157,
    "start_time": "2024-12-12T17:14:14.756Z"
   },
   {
    "duration": 159,
    "start_time": "2024-12-13T16:11:16.725Z"
   },
   {
    "duration": 2275,
    "start_time": "2024-12-13T16:11:22.216Z"
   },
   {
    "duration": 79,
    "start_time": "2024-12-13T16:11:24.493Z"
   },
   {
    "duration": 12,
    "start_time": "2024-12-13T16:11:24.574Z"
   },
   {
    "duration": 4,
    "start_time": "2024-12-13T16:11:24.587Z"
   },
   {
    "duration": 41,
    "start_time": "2024-12-13T16:11:24.594Z"
   },
   {
    "duration": 10,
    "start_time": "2024-12-13T16:11:24.637Z"
   },
   {
    "duration": 5,
    "start_time": "2024-12-13T16:11:24.649Z"
   },
   {
    "duration": 18,
    "start_time": "2024-12-13T16:11:24.656Z"
   },
   {
    "duration": 8,
    "start_time": "2024-12-13T16:11:24.676Z"
   },
   {
    "duration": 6,
    "start_time": "2024-12-13T16:11:24.709Z"
   },
   {
    "duration": 599,
    "start_time": "2024-12-13T16:11:24.717Z"
   },
   {
    "duration": 0,
    "start_time": "2024-12-13T16:11:25.318Z"
   },
   {
    "duration": 0,
    "start_time": "2024-12-13T16:11:25.320Z"
   },
   {
    "duration": 6,
    "start_time": "2024-12-13T16:11:48.633Z"
   },
   {
    "duration": 7,
    "start_time": "2024-12-13T16:11:49.348Z"
   },
   {
    "duration": 756,
    "start_time": "2024-12-13T16:32:40.117Z"
   },
   {
    "duration": 449,
    "start_time": "2024-12-13T16:32:58.722Z"
   },
   {
    "duration": 77,
    "start_time": "2024-12-13T16:32:59.173Z"
   },
   {
    "duration": 11,
    "start_time": "2024-12-13T16:32:59.251Z"
   },
   {
    "duration": 3,
    "start_time": "2024-12-13T16:32:59.264Z"
   },
   {
    "duration": 55,
    "start_time": "2024-12-13T16:32:59.270Z"
   },
   {
    "duration": 9,
    "start_time": "2024-12-13T16:32:59.326Z"
   },
   {
    "duration": 3,
    "start_time": "2024-12-13T16:32:59.337Z"
   },
   {
    "duration": 17,
    "start_time": "2024-12-13T16:32:59.342Z"
   },
   {
    "duration": 10,
    "start_time": "2024-12-13T16:32:59.360Z"
   },
   {
    "duration": 6,
    "start_time": "2024-12-13T16:32:59.371Z"
   },
   {
    "duration": 35,
    "start_time": "2024-12-13T16:32:59.378Z"
   },
   {
    "duration": 927,
    "start_time": "2024-12-13T16:32:59.415Z"
   },
   {
    "duration": 0,
    "start_time": "2024-12-13T16:33:00.343Z"
   },
   {
    "duration": 302,
    "start_time": "2024-12-13T16:36:14.462Z"
   },
   {
    "duration": 12,
    "start_time": "2024-12-13T16:41:34.142Z"
   },
   {
    "duration": 11,
    "start_time": "2024-12-13T16:42:46.644Z"
   },
   {
    "duration": 11,
    "start_time": "2024-12-13T16:42:49.312Z"
   },
   {
    "duration": 8,
    "start_time": "2024-12-13T16:43:01.366Z"
   },
   {
    "duration": 247,
    "start_time": "2024-12-13T16:43:07.600Z"
   },
   {
    "duration": 139,
    "start_time": "2024-12-13T16:43:34.694Z"
   },
   {
    "duration": 162,
    "start_time": "2024-12-13T16:43:54.616Z"
   },
   {
    "duration": 7,
    "start_time": "2024-12-13T16:44:54.372Z"
   },
   {
    "duration": 551,
    "start_time": "2024-12-13T16:51:12.905Z"
   },
   {
    "duration": 4,
    "start_time": "2024-12-13T16:51:21.784Z"
   },
   {
    "duration": 4,
    "start_time": "2024-12-13T16:52:44.991Z"
   },
   {
    "duration": 417,
    "start_time": "2024-12-13T16:52:57.573Z"
   },
   {
    "duration": 79,
    "start_time": "2024-12-13T16:52:57.993Z"
   },
   {
    "duration": 11,
    "start_time": "2024-12-13T16:52:58.073Z"
   },
   {
    "duration": 4,
    "start_time": "2024-12-13T16:52:58.086Z"
   },
   {
    "duration": 23,
    "start_time": "2024-12-13T16:52:58.093Z"
   },
   {
    "duration": 39,
    "start_time": "2024-12-13T16:52:58.118Z"
   },
   {
    "duration": 10,
    "start_time": "2024-12-13T16:52:58.159Z"
   },
   {
    "duration": 3,
    "start_time": "2024-12-13T16:52:58.172Z"
   },
   {
    "duration": 42,
    "start_time": "2024-12-13T16:52:58.178Z"
   },
   {
    "duration": 8,
    "start_time": "2024-12-13T16:52:58.222Z"
   },
   {
    "duration": 9,
    "start_time": "2024-12-13T16:52:58.231Z"
   },
   {
    "duration": 6,
    "start_time": "2024-12-13T16:52:58.241Z"
   },
   {
    "duration": 205,
    "start_time": "2024-12-13T16:52:58.248Z"
   },
   {
    "duration": 6,
    "start_time": "2024-12-13T16:52:58.456Z"
   },
   {
    "duration": 5,
    "start_time": "2024-12-13T16:52:58.465Z"
   },
   {
    "duration": 447,
    "start_time": "2024-12-13T17:55:25.529Z"
   },
   {
    "duration": 83,
    "start_time": "2024-12-13T17:55:25.978Z"
   },
   {
    "duration": 11,
    "start_time": "2024-12-13T17:55:26.062Z"
   },
   {
    "duration": 3,
    "start_time": "2024-12-13T17:55:26.075Z"
   },
   {
    "duration": 9,
    "start_time": "2024-12-13T17:55:26.079Z"
   },
   {
    "duration": 55,
    "start_time": "2024-12-13T17:55:26.090Z"
   },
   {
    "duration": 10,
    "start_time": "2024-12-13T17:55:26.146Z"
   },
   {
    "duration": 4,
    "start_time": "2024-12-13T17:55:26.157Z"
   },
   {
    "duration": 18,
    "start_time": "2024-12-13T17:55:26.162Z"
   },
   {
    "duration": 28,
    "start_time": "2024-12-13T17:55:26.183Z"
   },
   {
    "duration": 8,
    "start_time": "2024-12-13T17:55:26.213Z"
   },
   {
    "duration": 6,
    "start_time": "2024-12-13T17:55:26.223Z"
   },
   {
    "duration": 195,
    "start_time": "2024-12-13T17:55:26.230Z"
   },
   {
    "duration": 8,
    "start_time": "2024-12-13T17:55:26.427Z"
   },
   {
    "duration": 6,
    "start_time": "2024-12-13T17:55:26.437Z"
   },
   {
    "duration": 3,
    "start_time": "2024-12-13T18:14:33.963Z"
   },
   {
    "duration": 5,
    "start_time": "2024-12-13T18:14:42.329Z"
   },
   {
    "duration": 3,
    "start_time": "2024-12-13T18:14:54.937Z"
   },
   {
    "duration": 102,
    "start_time": "2024-12-13T18:15:08.227Z"
   },
   {
    "duration": 742,
    "start_time": "2024-12-13T18:23:09.578Z"
   },
   {
    "duration": 52,
    "start_time": "2024-12-13T18:24:45.354Z"
   },
   {
    "duration": 28,
    "start_time": "2024-12-13T18:38:41.344Z"
   },
   {
    "duration": 10,
    "start_time": "2024-12-13T18:38:53.335Z"
   },
   {
    "duration": 7,
    "start_time": "2024-12-13T18:45:21.604Z"
   },
   {
    "duration": 28,
    "start_time": "2024-12-13T18:45:38.894Z"
   },
   {
    "duration": 12,
    "start_time": "2024-12-13T18:45:48.659Z"
   },
   {
    "duration": 433,
    "start_time": "2024-12-13T18:46:28.839Z"
   },
   {
    "duration": 82,
    "start_time": "2024-12-13T18:46:29.274Z"
   },
   {
    "duration": 11,
    "start_time": "2024-12-13T18:46:29.357Z"
   },
   {
    "duration": 4,
    "start_time": "2024-12-13T18:46:29.371Z"
   },
   {
    "duration": 8,
    "start_time": "2024-12-13T18:46:29.378Z"
   },
   {
    "duration": 54,
    "start_time": "2024-12-13T18:46:29.388Z"
   },
   {
    "duration": 9,
    "start_time": "2024-12-13T18:46:29.444Z"
   },
   {
    "duration": 4,
    "start_time": "2024-12-13T18:46:29.454Z"
   },
   {
    "duration": 18,
    "start_time": "2024-12-13T18:46:29.459Z"
   },
   {
    "duration": 30,
    "start_time": "2024-12-13T18:46:29.480Z"
   },
   {
    "duration": 7,
    "start_time": "2024-12-13T18:46:29.512Z"
   },
   {
    "duration": 12,
    "start_time": "2024-12-13T18:46:29.521Z"
   },
   {
    "duration": 12,
    "start_time": "2024-12-13T18:46:29.534Z"
   },
   {
    "duration": 8,
    "start_time": "2024-12-13T18:46:29.548Z"
   },
   {
    "duration": 6,
    "start_time": "2024-12-13T18:46:29.558Z"
   },
   {
    "duration": 202,
    "start_time": "2024-12-13T18:46:29.565Z"
   },
   {
    "duration": 8,
    "start_time": "2024-12-13T18:46:29.769Z"
   },
   {
    "duration": 6,
    "start_time": "2024-12-13T18:46:29.779Z"
   },
   {
    "duration": 12,
    "start_time": "2024-12-13T18:46:50.576Z"
   },
   {
    "duration": 13,
    "start_time": "2024-12-13T18:47:41.033Z"
   },
   {
    "duration": 13,
    "start_time": "2024-12-13T18:47:45.080Z"
   },
   {
    "duration": 13,
    "start_time": "2024-12-13T18:48:08.160Z"
   },
   {
    "duration": 398,
    "start_time": "2024-12-13T18:48:19.681Z"
   },
   {
    "duration": 78,
    "start_time": "2024-12-13T18:48:20.081Z"
   },
   {
    "duration": 13,
    "start_time": "2024-12-13T18:48:20.160Z"
   },
   {
    "duration": 3,
    "start_time": "2024-12-13T18:48:20.175Z"
   },
   {
    "duration": 9,
    "start_time": "2024-12-13T18:48:20.180Z"
   },
   {
    "duration": 39,
    "start_time": "2024-12-13T18:48:20.209Z"
   },
   {
    "duration": 9,
    "start_time": "2024-12-13T18:48:20.250Z"
   },
   {
    "duration": 4,
    "start_time": "2024-12-13T18:48:20.262Z"
   },
   {
    "duration": 17,
    "start_time": "2024-12-13T18:48:20.267Z"
   },
   {
    "duration": 8,
    "start_time": "2024-12-13T18:48:20.308Z"
   },
   {
    "duration": 8,
    "start_time": "2024-12-13T18:48:20.318Z"
   },
   {
    "duration": 15,
    "start_time": "2024-12-13T18:48:20.327Z"
   },
   {
    "duration": 13,
    "start_time": "2024-12-13T18:48:20.344Z"
   },
   {
    "duration": 10,
    "start_time": "2024-12-13T18:48:20.358Z"
   },
   {
    "duration": 5,
    "start_time": "2024-12-13T18:48:20.370Z"
   },
   {
    "duration": 181,
    "start_time": "2024-12-13T18:48:20.409Z"
   },
   {
    "duration": 6,
    "start_time": "2024-12-13T18:48:20.591Z"
   },
   {
    "duration": 6,
    "start_time": "2024-12-13T18:48:20.599Z"
   },
   {
    "duration": 505,
    "start_time": "2024-12-13T19:14:56.133Z"
   },
   {
    "duration": 81,
    "start_time": "2024-12-13T19:14:56.640Z"
   },
   {
    "duration": 12,
    "start_time": "2024-12-13T19:14:56.722Z"
   },
   {
    "duration": 4,
    "start_time": "2024-12-13T19:14:56.735Z"
   },
   {
    "duration": 8,
    "start_time": "2024-12-13T19:14:56.741Z"
   },
   {
    "duration": 64,
    "start_time": "2024-12-13T19:14:56.751Z"
   },
   {
    "duration": 9,
    "start_time": "2024-12-13T19:14:56.817Z"
   },
   {
    "duration": 4,
    "start_time": "2024-12-13T19:14:56.827Z"
   },
   {
    "duration": 17,
    "start_time": "2024-12-13T19:14:56.832Z"
   },
   {
    "duration": 8,
    "start_time": "2024-12-13T19:14:56.851Z"
   },
   {
    "duration": 8,
    "start_time": "2024-12-13T19:14:56.861Z"
   },
   {
    "duration": 48,
    "start_time": "2024-12-13T19:14:56.870Z"
   },
   {
    "duration": 14,
    "start_time": "2024-12-13T19:14:56.919Z"
   },
   {
    "duration": 8,
    "start_time": "2024-12-13T19:14:56.936Z"
   },
   {
    "duration": 6,
    "start_time": "2024-12-13T19:14:56.946Z"
   },
   {
    "duration": 199,
    "start_time": "2024-12-13T19:14:56.954Z"
   },
   {
    "duration": 9,
    "start_time": "2024-12-13T19:14:57.155Z"
   },
   {
    "duration": 18,
    "start_time": "2024-12-13T19:14:57.167Z"
   },
   {
    "duration": 14,
    "start_time": "2024-12-13T19:19:09.285Z"
   },
   {
    "duration": 13,
    "start_time": "2024-12-13T19:19:12.285Z"
   },
   {
    "duration": 475,
    "start_time": "2024-12-13T19:19:17.628Z"
   },
   {
    "duration": 74,
    "start_time": "2024-12-13T19:19:18.109Z"
   },
   {
    "duration": 10,
    "start_time": "2024-12-13T19:19:18.185Z"
   },
   {
    "duration": 13,
    "start_time": "2024-12-13T19:19:18.197Z"
   },
   {
    "duration": 8,
    "start_time": "2024-12-13T19:19:18.213Z"
   },
   {
    "duration": 38,
    "start_time": "2024-12-13T19:19:18.223Z"
   },
   {
    "duration": 9,
    "start_time": "2024-12-13T19:19:18.263Z"
   },
   {
    "duration": 4,
    "start_time": "2024-12-13T19:19:18.273Z"
   },
   {
    "duration": 46,
    "start_time": "2024-12-13T19:19:18.279Z"
   },
   {
    "duration": 8,
    "start_time": "2024-12-13T19:19:18.327Z"
   },
   {
    "duration": 8,
    "start_time": "2024-12-13T19:19:18.336Z"
   },
   {
    "duration": 14,
    "start_time": "2024-12-13T19:19:18.346Z"
   },
   {
    "duration": 14,
    "start_time": "2024-12-13T19:19:18.361Z"
   },
   {
    "duration": 37,
    "start_time": "2024-12-13T19:19:18.378Z"
   },
   {
    "duration": 6,
    "start_time": "2024-12-13T19:19:18.417Z"
   },
   {
    "duration": 184,
    "start_time": "2024-12-13T19:19:18.425Z"
   },
   {
    "duration": 6,
    "start_time": "2024-12-13T19:19:18.611Z"
   },
   {
    "duration": 6,
    "start_time": "2024-12-13T19:19:18.619Z"
   },
   {
    "duration": 10,
    "start_time": "2024-12-13T19:22:20.739Z"
   },
   {
    "duration": 12,
    "start_time": "2024-12-13T19:22:22.133Z"
   },
   {
    "duration": 391,
    "start_time": "2024-12-13T19:22:42.494Z"
   },
   {
    "duration": 77,
    "start_time": "2024-12-13T19:22:42.888Z"
   },
   {
    "duration": 11,
    "start_time": "2024-12-13T19:22:42.967Z"
   },
   {
    "duration": 4,
    "start_time": "2024-12-13T19:22:42.980Z"
   },
   {
    "duration": 27,
    "start_time": "2024-12-13T19:22:42.986Z"
   },
   {
    "duration": 39,
    "start_time": "2024-12-13T19:22:43.014Z"
   },
   {
    "duration": 9,
    "start_time": "2024-12-13T19:22:43.055Z"
   },
   {
    "duration": 4,
    "start_time": "2024-12-13T19:22:43.065Z"
   },
   {
    "duration": 41,
    "start_time": "2024-12-13T19:22:43.071Z"
   },
   {
    "duration": 8,
    "start_time": "2024-12-13T19:22:43.114Z"
   },
   {
    "duration": 8,
    "start_time": "2024-12-13T19:22:43.124Z"
   },
   {
    "duration": 11,
    "start_time": "2024-12-13T19:22:43.134Z"
   },
   {
    "duration": 13,
    "start_time": "2024-12-13T19:22:43.147Z"
   },
   {
    "duration": 9,
    "start_time": "2024-12-13T19:22:43.162Z"
   },
   {
    "duration": 38,
    "start_time": "2024-12-13T19:22:43.173Z"
   },
   {
    "duration": 180,
    "start_time": "2024-12-13T19:22:43.213Z"
   },
   {
    "duration": 7,
    "start_time": "2024-12-13T19:22:43.395Z"
   },
   {
    "duration": 7,
    "start_time": "2024-12-13T19:22:43.404Z"
   },
   {
    "duration": 5,
    "start_time": "2024-12-13T19:23:19.474Z"
   },
   {
    "duration": 446,
    "start_time": "2024-12-13T19:24:56.352Z"
   },
   {
    "duration": 84,
    "start_time": "2024-12-13T19:24:56.800Z"
   },
   {
    "duration": 25,
    "start_time": "2024-12-13T19:24:56.886Z"
   },
   {
    "duration": 4,
    "start_time": "2024-12-13T19:24:56.912Z"
   },
   {
    "duration": 8,
    "start_time": "2024-12-13T19:24:56.918Z"
   },
   {
    "duration": 38,
    "start_time": "2024-12-13T19:24:56.928Z"
   },
   {
    "duration": 10,
    "start_time": "2024-12-13T19:24:56.968Z"
   },
   {
    "duration": 3,
    "start_time": "2024-12-13T19:24:57.008Z"
   },
   {
    "duration": 25,
    "start_time": "2024-12-13T19:24:57.013Z"
   },
   {
    "duration": 12,
    "start_time": "2024-12-13T19:24:57.040Z"
   },
   {
    "duration": 9,
    "start_time": "2024-12-13T19:24:57.053Z"
   },
   {
    "duration": 17,
    "start_time": "2024-12-13T19:24:57.064Z"
   },
   {
    "duration": 20,
    "start_time": "2024-12-13T19:24:57.110Z"
   },
   {
    "duration": 12,
    "start_time": "2024-12-13T19:24:57.133Z"
   },
   {
    "duration": 7,
    "start_time": "2024-12-13T19:24:57.146Z"
   },
   {
    "duration": 230,
    "start_time": "2024-12-13T19:24:57.155Z"
   },
   {
    "duration": 6,
    "start_time": "2024-12-13T19:24:57.388Z"
   },
   {
    "duration": 6,
    "start_time": "2024-12-13T19:24:57.396Z"
   },
   {
    "duration": 3,
    "start_time": "2024-12-13T19:26:52.299Z"
   },
   {
    "duration": 10,
    "start_time": "2024-12-13T19:27:07.518Z"
   },
   {
    "duration": 449,
    "start_time": "2024-12-13T19:27:13.119Z"
   },
   {
    "duration": 79,
    "start_time": "2024-12-13T19:27:13.570Z"
   },
   {
    "duration": 11,
    "start_time": "2024-12-13T19:27:13.650Z"
   },
   {
    "duration": 3,
    "start_time": "2024-12-13T19:27:13.663Z"
   },
   {
    "duration": 8,
    "start_time": "2024-12-13T19:27:13.668Z"
   },
   {
    "duration": 58,
    "start_time": "2024-12-13T19:27:13.677Z"
   },
   {
    "duration": 10,
    "start_time": "2024-12-13T19:27:13.737Z"
   },
   {
    "duration": 3,
    "start_time": "2024-12-13T19:27:13.750Z"
   },
   {
    "duration": 18,
    "start_time": "2024-12-13T19:27:13.755Z"
   },
   {
    "duration": 8,
    "start_time": "2024-12-13T19:27:13.776Z"
   },
   {
    "duration": 8,
    "start_time": "2024-12-13T19:27:13.809Z"
   },
   {
    "duration": 11,
    "start_time": "2024-12-13T19:27:13.819Z"
   },
   {
    "duration": 13,
    "start_time": "2024-12-13T19:27:13.831Z"
   },
   {
    "duration": 8,
    "start_time": "2024-12-13T19:27:13.846Z"
   },
   {
    "duration": 6,
    "start_time": "2024-12-13T19:27:13.855Z"
   },
   {
    "duration": 199,
    "start_time": "2024-12-13T19:27:13.863Z"
   },
   {
    "duration": 9,
    "start_time": "2024-12-13T19:27:14.063Z"
   },
   {
    "duration": 7,
    "start_time": "2024-12-13T19:27:14.074Z"
   },
   {
    "duration": 2125,
    "start_time": "2024-12-13T21:53:14.060Z"
   },
   {
    "duration": 68,
    "start_time": "2024-12-13T21:53:16.187Z"
   },
   {
    "duration": 10,
    "start_time": "2024-12-13T21:53:16.257Z"
   },
   {
    "duration": 3,
    "start_time": "2024-12-13T21:53:16.270Z"
   },
   {
    "duration": 8,
    "start_time": "2024-12-13T21:53:16.275Z"
   },
   {
    "duration": 38,
    "start_time": "2024-12-13T21:53:16.284Z"
   },
   {
    "duration": 10,
    "start_time": "2024-12-13T21:53:16.324Z"
   },
   {
    "duration": 4,
    "start_time": "2024-12-13T21:53:16.335Z"
   },
   {
    "duration": 16,
    "start_time": "2024-12-13T21:53:16.341Z"
   },
   {
    "duration": 8,
    "start_time": "2024-12-13T21:53:16.360Z"
   },
   {
    "duration": 39,
    "start_time": "2024-12-13T21:53:16.370Z"
   },
   {
    "duration": 11,
    "start_time": "2024-12-13T21:53:16.410Z"
   },
   {
    "duration": 13,
    "start_time": "2024-12-13T21:53:16.423Z"
   },
   {
    "duration": 9,
    "start_time": "2024-12-13T21:53:16.438Z"
   },
   {
    "duration": 6,
    "start_time": "2024-12-13T21:53:16.448Z"
   },
   {
    "duration": 233,
    "start_time": "2024-12-13T21:53:16.456Z"
   },
   {
    "duration": 6,
    "start_time": "2024-12-13T21:53:16.691Z"
   },
   {
    "duration": 6,
    "start_time": "2024-12-13T21:53:16.699Z"
   },
   {
    "duration": 9,
    "start_time": "2024-12-13T22:03:39.153Z"
   },
   {
    "duration": 8,
    "start_time": "2024-12-13T22:11:07.529Z"
   },
   {
    "duration": 3,
    "start_time": "2024-12-13T23:03:34.954Z"
   },
   {
    "duration": 3,
    "start_time": "2024-12-13T23:03:55.833Z"
   },
   {
    "duration": 7,
    "start_time": "2024-12-13T23:04:40.255Z"
   },
   {
    "duration": 97,
    "start_time": "2024-12-13T23:04:49.799Z"
   },
   {
    "duration": 11,
    "start_time": "2024-12-13T23:04:57.933Z"
   },
   {
    "duration": 5,
    "start_time": "2024-12-13T23:05:57.319Z"
   },
   {
    "duration": 501,
    "start_time": "2024-12-13T23:06:47.563Z"
   },
   {
    "duration": 11,
    "start_time": "2024-12-13T23:06:57.635Z"
   },
   {
    "duration": 18,
    "start_time": "2024-12-13T23:07:32.425Z"
   },
   {
    "duration": 4,
    "start_time": "2024-12-13T23:07:35.781Z"
   },
   {
    "duration": 450,
    "start_time": "2024-12-13T23:07:41.425Z"
   },
   {
    "duration": 86,
    "start_time": "2024-12-13T23:07:41.877Z"
   },
   {
    "duration": 11,
    "start_time": "2024-12-13T23:07:41.965Z"
   },
   {
    "duration": 3,
    "start_time": "2024-12-13T23:07:41.978Z"
   },
   {
    "duration": 22,
    "start_time": "2024-12-13T23:07:41.984Z"
   },
   {
    "duration": 40,
    "start_time": "2024-12-13T23:07:42.007Z"
   },
   {
    "duration": 10,
    "start_time": "2024-12-13T23:07:42.048Z"
   },
   {
    "duration": 3,
    "start_time": "2024-12-13T23:07:42.059Z"
   },
   {
    "duration": 17,
    "start_time": "2024-12-13T23:07:42.064Z"
   },
   {
    "duration": 9,
    "start_time": "2024-12-13T23:07:42.106Z"
   },
   {
    "duration": 8,
    "start_time": "2024-12-13T23:07:42.116Z"
   },
   {
    "duration": 9,
    "start_time": "2024-12-13T23:07:42.126Z"
   },
   {
    "duration": 5,
    "start_time": "2024-12-13T23:07:42.136Z"
   },
   {
    "duration": 13,
    "start_time": "2024-12-13T23:07:42.144Z"
   },
   {
    "duration": 9,
    "start_time": "2024-12-13T23:07:42.158Z"
   },
   {
    "duration": 44,
    "start_time": "2024-12-13T23:07:42.168Z"
   },
   {
    "duration": 192,
    "start_time": "2024-12-13T23:07:42.213Z"
   },
   {
    "duration": 6,
    "start_time": "2024-12-13T23:07:42.408Z"
   },
   {
    "duration": 9,
    "start_time": "2024-12-13T23:07:42.416Z"
   },
   {
    "duration": 11,
    "start_time": "2024-12-13T23:09:29.305Z"
   },
   {
    "duration": 4,
    "start_time": "2024-12-13T23:09:33.359Z"
   },
   {
    "duration": 14,
    "start_time": "2024-12-13T23:09:39.673Z"
   },
   {
    "duration": 450,
    "start_time": "2024-12-13T23:09:52.239Z"
   },
   {
    "duration": 79,
    "start_time": "2024-12-13T23:09:52.691Z"
   },
   {
    "duration": 10,
    "start_time": "2024-12-13T23:09:52.772Z"
   },
   {
    "duration": 4,
    "start_time": "2024-12-13T23:09:52.784Z"
   },
   {
    "duration": 9,
    "start_time": "2024-12-13T23:09:52.806Z"
   },
   {
    "duration": 42,
    "start_time": "2024-12-13T23:09:52.816Z"
   },
   {
    "duration": 10,
    "start_time": "2024-12-13T23:09:52.859Z"
   },
   {
    "duration": 3,
    "start_time": "2024-12-13T23:09:52.871Z"
   },
   {
    "duration": 20,
    "start_time": "2024-12-13T23:09:52.905Z"
   },
   {
    "duration": 8,
    "start_time": "2024-12-13T23:09:52.927Z"
   },
   {
    "duration": 8,
    "start_time": "2024-12-13T23:09:52.937Z"
   },
   {
    "duration": 9,
    "start_time": "2024-12-13T23:09:52.947Z"
   },
   {
    "duration": 4,
    "start_time": "2024-12-13T23:09:52.958Z"
   },
   {
    "duration": 43,
    "start_time": "2024-12-13T23:09:52.965Z"
   },
   {
    "duration": 10,
    "start_time": "2024-12-13T23:09:53.010Z"
   },
   {
    "duration": 6,
    "start_time": "2024-12-13T23:09:53.022Z"
   },
   {
    "duration": 187,
    "start_time": "2024-12-13T23:09:53.030Z"
   },
   {
    "duration": 8,
    "start_time": "2024-12-13T23:09:53.220Z"
   },
   {
    "duration": 6,
    "start_time": "2024-12-13T23:09:53.229Z"
   },
   {
    "duration": 405,
    "start_time": "2024-12-13T23:10:15.600Z"
   },
   {
    "duration": 67,
    "start_time": "2024-12-13T23:10:16.007Z"
   },
   {
    "duration": 11,
    "start_time": "2024-12-13T23:10:16.075Z"
   },
   {
    "duration": 17,
    "start_time": "2024-12-13T23:10:16.088Z"
   },
   {
    "duration": 9,
    "start_time": "2024-12-13T23:10:16.107Z"
   },
   {
    "duration": 39,
    "start_time": "2024-12-13T23:10:16.117Z"
   },
   {
    "duration": 9,
    "start_time": "2024-12-13T23:10:16.158Z"
   },
   {
    "duration": 4,
    "start_time": "2024-12-13T23:10:16.168Z"
   },
   {
    "duration": 42,
    "start_time": "2024-12-13T23:10:16.173Z"
   },
   {
    "duration": 9,
    "start_time": "2024-12-13T23:10:16.217Z"
   },
   {
    "duration": 8,
    "start_time": "2024-12-13T23:10:16.227Z"
   },
   {
    "duration": 10,
    "start_time": "2024-12-13T23:10:16.236Z"
   },
   {
    "duration": 4,
    "start_time": "2024-12-13T23:10:16.248Z"
   },
   {
    "duration": 12,
    "start_time": "2024-12-13T23:10:16.256Z"
   },
   {
    "duration": 43,
    "start_time": "2024-12-13T23:10:16.269Z"
   },
   {
    "duration": 6,
    "start_time": "2024-12-13T23:10:16.313Z"
   },
   {
    "duration": 182,
    "start_time": "2024-12-13T23:10:16.320Z"
   },
   {
    "duration": 7,
    "start_time": "2024-12-13T23:10:16.503Z"
   },
   {
    "duration": 7,
    "start_time": "2024-12-13T23:10:16.511Z"
   },
   {
    "duration": 4,
    "start_time": "2024-12-13T23:13:51.362Z"
   },
   {
    "duration": 12,
    "start_time": "2024-12-13T23:13:52.182Z"
   },
   {
    "duration": 8,
    "start_time": "2024-12-13T23:14:48.174Z"
   },
   {
    "duration": 4,
    "start_time": "2024-12-13T23:14:54.805Z"
   },
   {
    "duration": 12,
    "start_time": "2024-12-13T23:14:55.522Z"
   },
   {
    "duration": 452,
    "start_time": "2024-12-13T23:15:02.815Z"
   },
   {
    "duration": 76,
    "start_time": "2024-12-13T23:15:03.269Z"
   },
   {
    "duration": 11,
    "start_time": "2024-12-13T23:15:03.347Z"
   },
   {
    "duration": 4,
    "start_time": "2024-12-13T23:15:03.360Z"
   },
   {
    "duration": 8,
    "start_time": "2024-12-13T23:15:03.366Z"
   },
   {
    "duration": 62,
    "start_time": "2024-12-13T23:15:03.375Z"
   },
   {
    "duration": 11,
    "start_time": "2024-12-13T23:15:03.439Z"
   },
   {
    "duration": 4,
    "start_time": "2024-12-13T23:15:03.451Z"
   },
   {
    "duration": 17,
    "start_time": "2024-12-13T23:15:03.457Z"
   },
   {
    "duration": 33,
    "start_time": "2024-12-13T23:15:03.477Z"
   },
   {
    "duration": 9,
    "start_time": "2024-12-13T23:15:03.512Z"
   },
   {
    "duration": 13,
    "start_time": "2024-12-13T23:15:03.523Z"
   },
   {
    "duration": 5,
    "start_time": "2024-12-13T23:15:03.537Z"
   },
   {
    "duration": 12,
    "start_time": "2024-12-13T23:15:03.544Z"
   },
   {
    "duration": 9,
    "start_time": "2024-12-13T23:15:03.558Z"
   },
   {
    "duration": 42,
    "start_time": "2024-12-13T23:15:03.568Z"
   },
   {
    "duration": 181,
    "start_time": "2024-12-13T23:15:03.612Z"
   },
   {
    "duration": 7,
    "start_time": "2024-12-13T23:15:03.795Z"
   },
   {
    "duration": 10,
    "start_time": "2024-12-13T23:15:03.803Z"
   },
   {
    "duration": 10,
    "start_time": "2024-12-13T23:16:27.485Z"
   },
   {
    "duration": 12,
    "start_time": "2024-12-13T23:16:43.568Z"
   },
   {
    "duration": 12,
    "start_time": "2024-12-13T23:16:54.342Z"
   },
   {
    "duration": 190,
    "start_time": "2024-12-13T23:17:57.337Z"
   },
   {
    "duration": 4,
    "start_time": "2024-12-13T23:18:14.747Z"
   },
   {
    "duration": 11,
    "start_time": "2024-12-13T23:20:41.709Z"
   },
   {
    "duration": 18,
    "start_time": "2024-12-13T23:21:06.248Z"
   },
   {
    "duration": 9,
    "start_time": "2024-12-13T23:21:21.746Z"
   },
   {
    "duration": 10,
    "start_time": "2024-12-13T23:25:51.809Z"
   },
   {
    "duration": 2181,
    "start_time": "2024-12-14T03:26:20.965Z"
   },
   {
    "duration": 71,
    "start_time": "2024-12-14T03:26:23.149Z"
   },
   {
    "duration": 11,
    "start_time": "2024-12-14T03:26:23.221Z"
   },
   {
    "duration": 3,
    "start_time": "2024-12-14T03:26:23.234Z"
   },
   {
    "duration": 8,
    "start_time": "2024-12-14T03:26:23.240Z"
   },
   {
    "duration": 38,
    "start_time": "2024-12-14T03:26:23.249Z"
   },
   {
    "duration": 36,
    "start_time": "2024-12-14T03:26:23.289Z"
   },
   {
    "duration": 4,
    "start_time": "2024-12-14T03:26:23.328Z"
   },
   {
    "duration": 22,
    "start_time": "2024-12-14T03:26:23.334Z"
   },
   {
    "duration": 11,
    "start_time": "2024-12-14T03:26:23.358Z"
   },
   {
    "duration": 8,
    "start_time": "2024-12-14T03:26:23.371Z"
   },
   {
    "duration": 44,
    "start_time": "2024-12-14T03:26:23.381Z"
   },
   {
    "duration": 5,
    "start_time": "2024-12-14T03:26:23.427Z"
   },
   {
    "duration": 12,
    "start_time": "2024-12-14T03:26:23.435Z"
   },
   {
    "duration": 8,
    "start_time": "2024-12-14T03:26:23.449Z"
   },
   {
    "duration": 6,
    "start_time": "2024-12-14T03:26:23.459Z"
   },
   {
    "duration": 207,
    "start_time": "2024-12-14T03:26:23.466Z"
   },
   {
    "duration": 6,
    "start_time": "2024-12-14T03:26:23.675Z"
   },
   {
    "duration": 6,
    "start_time": "2024-12-14T03:26:23.682Z"
   },
   {
    "duration": 13,
    "start_time": "2024-12-14T03:31:04.220Z"
   },
   {
    "duration": 8,
    "start_time": "2024-12-14T03:31:15.468Z"
   },
   {
    "duration": 4,
    "start_time": "2024-12-14T03:36:51.731Z"
   },
   {
    "duration": 9,
    "start_time": "2024-12-14T03:36:52.523Z"
   },
   {
    "duration": 8,
    "start_time": "2024-12-14T03:48:00.859Z"
   },
   {
    "duration": 8,
    "start_time": "2024-12-14T04:01:46.679Z"
   },
   {
    "duration": 10,
    "start_time": "2024-12-14T04:01:55.919Z"
   },
   {
    "duration": 5,
    "start_time": "2024-12-14T04:27:17.294Z"
   },
   {
    "duration": 321,
    "start_time": "2024-12-14T04:27:55.687Z"
   },
   {
    "duration": 23,
    "start_time": "2024-12-14T04:28:15.776Z"
   },
   {
    "duration": 20,
    "start_time": "2024-12-14T04:30:26.879Z"
   },
   {
    "duration": 21,
    "start_time": "2024-12-14T04:30:35.808Z"
   },
   {
    "duration": 12,
    "start_time": "2024-12-14T04:30:51.728Z"
   },
   {
    "duration": 12,
    "start_time": "2024-12-14T05:11:47.252Z"
   },
   {
    "duration": 9,
    "start_time": "2024-12-14T05:14:05.543Z"
   },
   {
    "duration": 14,
    "start_time": "2024-12-14T05:14:24.603Z"
   },
   {
    "duration": 21,
    "start_time": "2024-12-14T05:15:02.164Z"
   },
   {
    "duration": 18,
    "start_time": "2024-12-14T05:15:30.246Z"
   },
   {
    "duration": 5,
    "start_time": "2024-12-14T05:16:28.015Z"
   },
   {
    "duration": 3,
    "start_time": "2024-12-14T05:16:34.568Z"
   },
   {
    "duration": 4,
    "start_time": "2024-12-14T05:16:42.104Z"
   },
   {
    "duration": 20,
    "start_time": "2024-12-14T05:16:49.345Z"
   },
   {
    "duration": 20,
    "start_time": "2024-12-14T05:18:09.740Z"
   },
   {
    "duration": 9,
    "start_time": "2024-12-14T05:20:01.072Z"
   },
   {
    "duration": 10,
    "start_time": "2024-12-14T05:21:41.582Z"
   },
   {
    "duration": 8,
    "start_time": "2024-12-14T05:36:13.264Z"
   },
   {
    "duration": 2140,
    "start_time": "2024-12-15T21:37:12.494Z"
   },
   {
    "duration": 63,
    "start_time": "2024-12-15T21:37:14.636Z"
   },
   {
    "duration": 11,
    "start_time": "2024-12-15T21:37:14.701Z"
   },
   {
    "duration": 3,
    "start_time": "2024-12-15T21:37:14.714Z"
   },
   {
    "duration": 8,
    "start_time": "2024-12-15T21:37:14.720Z"
   },
   {
    "duration": 38,
    "start_time": "2024-12-15T21:37:14.729Z"
   },
   {
    "duration": 9,
    "start_time": "2024-12-15T21:37:14.769Z"
   },
   {
    "duration": 26,
    "start_time": "2024-12-15T21:37:14.780Z"
   },
   {
    "duration": 18,
    "start_time": "2024-12-15T21:37:14.808Z"
   },
   {
    "duration": 9,
    "start_time": "2024-12-15T21:37:14.827Z"
   },
   {
    "duration": 8,
    "start_time": "2024-12-15T21:37:14.837Z"
   },
   {
    "duration": 13,
    "start_time": "2024-12-15T21:37:14.846Z"
   },
   {
    "duration": 5,
    "start_time": "2024-12-15T21:37:14.861Z"
   },
   {
    "duration": 14,
    "start_time": "2024-12-15T21:37:14.906Z"
   },
   {
    "duration": 3,
    "start_time": "2024-12-15T21:37:14.922Z"
   },
   {
    "duration": 9,
    "start_time": "2024-12-15T21:37:14.927Z"
   },
   {
    "duration": 10,
    "start_time": "2024-12-15T21:37:14.938Z"
   },
   {
    "duration": 4,
    "start_time": "2024-12-15T21:37:14.950Z"
   },
   {
    "duration": 15,
    "start_time": "2024-12-15T21:37:14.956Z"
   },
   {
    "duration": 9,
    "start_time": "2024-12-15T21:37:15.006Z"
   },
   {
    "duration": 8,
    "start_time": "2024-12-15T21:37:15.016Z"
   },
   {
    "duration": 5,
    "start_time": "2024-12-15T21:37:15.027Z"
   },
   {
    "duration": 199,
    "start_time": "2024-12-15T21:37:15.034Z"
   },
   {
    "duration": 6,
    "start_time": "2024-12-15T21:37:15.235Z"
   },
   {
    "duration": 6,
    "start_time": "2024-12-15T21:37:15.244Z"
   },
   {
    "duration": 7,
    "start_time": "2024-12-15T21:37:15.252Z"
   },
   {
    "duration": 218,
    "start_time": "2024-12-15T21:42:11.854Z"
   },
   {
    "duration": 11,
    "start_time": "2024-12-15T21:43:20.967Z"
   },
   {
    "duration": 3,
    "start_time": "2024-12-15T21:43:22.953Z"
   },
   {
    "duration": 9,
    "start_time": "2024-12-15T21:45:34.582Z"
   },
   {
    "duration": 16,
    "start_time": "2024-12-15T21:46:35.348Z"
   },
   {
    "duration": 10,
    "start_time": "2024-12-15T21:46:45.787Z"
   },
   {
    "duration": 11,
    "start_time": "2024-12-15T21:46:55.942Z"
   },
   {
    "duration": 12,
    "start_time": "2024-12-15T21:50:02.163Z"
   },
   {
    "duration": 15,
    "start_time": "2024-12-15T21:50:11.685Z"
   },
   {
    "duration": 2562,
    "start_time": "2024-12-15T22:21:18.749Z"
   },
   {
    "duration": 285,
    "start_time": "2024-12-15T22:32:01.609Z"
   },
   {
    "duration": 897,
    "start_time": "2024-12-15T22:32:08.207Z"
   },
   {
    "duration": 68,
    "start_time": "2024-12-15T22:32:09.107Z"
   },
   {
    "duration": 14,
    "start_time": "2024-12-15T22:32:09.177Z"
   },
   {
    "duration": 3,
    "start_time": "2024-12-15T22:32:09.193Z"
   },
   {
    "duration": 8,
    "start_time": "2024-12-15T22:32:09.199Z"
   },
   {
    "duration": 52,
    "start_time": "2024-12-15T22:32:09.209Z"
   },
   {
    "duration": 12,
    "start_time": "2024-12-15T22:32:09.263Z"
   },
   {
    "duration": 4,
    "start_time": "2024-12-15T22:32:09.277Z"
   },
   {
    "duration": 24,
    "start_time": "2024-12-15T22:32:09.283Z"
   },
   {
    "duration": 34,
    "start_time": "2024-12-15T22:32:09.309Z"
   },
   {
    "duration": 10,
    "start_time": "2024-12-15T22:32:09.345Z"
   },
   {
    "duration": 13,
    "start_time": "2024-12-15T22:32:09.356Z"
   },
   {
    "duration": 6,
    "start_time": "2024-12-15T22:32:09.372Z"
   },
   {
    "duration": 17,
    "start_time": "2024-12-15T22:32:09.382Z"
   },
   {
    "duration": 3,
    "start_time": "2024-12-15T22:32:09.401Z"
   },
   {
    "duration": 41,
    "start_time": "2024-12-15T22:32:09.405Z"
   },
   {
    "duration": 14,
    "start_time": "2024-12-15T22:32:09.449Z"
   },
   {
    "duration": 9,
    "start_time": "2024-12-15T22:32:09.465Z"
   },
   {
    "duration": 24,
    "start_time": "2024-12-15T22:32:09.477Z"
   },
   {
    "duration": 10,
    "start_time": "2024-12-15T22:32:09.505Z"
   },
   {
    "duration": 13,
    "start_time": "2024-12-15T22:32:09.517Z"
   },
   {
    "duration": 14,
    "start_time": "2024-12-15T22:32:09.543Z"
   },
   {
    "duration": 8,
    "start_time": "2024-12-15T22:32:09.559Z"
   },
   {
    "duration": 194,
    "start_time": "2024-12-15T22:32:09.569Z"
   },
   {
    "duration": 8,
    "start_time": "2024-12-15T22:32:09.765Z"
   },
   {
    "duration": 6,
    "start_time": "2024-12-15T22:32:09.775Z"
   },
   {
    "duration": 10,
    "start_time": "2024-12-15T22:32:09.782Z"
   },
   {
    "duration": 40,
    "start_time": "2024-12-15T22:33:06.276Z"
   },
   {
    "duration": 743,
    "start_time": "2024-12-15T22:33:13.507Z"
   },
   {
    "duration": 40,
    "start_time": "2024-12-15T22:33:14.252Z"
   },
   {
    "duration": 10,
    "start_time": "2024-12-15T22:33:14.293Z"
   },
   {
    "duration": 3,
    "start_time": "2024-12-15T22:33:14.305Z"
   },
   {
    "duration": 32,
    "start_time": "2024-12-15T22:33:14.311Z"
   },
   {
    "duration": 39,
    "start_time": "2024-12-15T22:33:14.344Z"
   },
   {
    "duration": 9,
    "start_time": "2024-12-15T22:33:14.384Z"
   },
   {
    "duration": 4,
    "start_time": "2024-12-15T22:33:14.395Z"
   },
   {
    "duration": 17,
    "start_time": "2024-12-15T22:33:14.400Z"
   },
   {
    "duration": 30,
    "start_time": "2024-12-15T22:33:14.419Z"
   },
   {
    "duration": 9,
    "start_time": "2024-12-15T22:33:14.451Z"
   },
   {
    "duration": 11,
    "start_time": "2024-12-15T22:33:14.462Z"
   },
   {
    "duration": 6,
    "start_time": "2024-12-15T22:33:14.476Z"
   },
   {
    "duration": 13,
    "start_time": "2024-12-15T22:33:14.485Z"
   },
   {
    "duration": 4,
    "start_time": "2024-12-15T22:33:14.500Z"
   },
   {
    "duration": 42,
    "start_time": "2024-12-15T22:33:14.505Z"
   },
   {
    "duration": 9,
    "start_time": "2024-12-15T22:33:14.549Z"
   },
   {
    "duration": 4,
    "start_time": "2024-12-15T22:33:14.560Z"
   },
   {
    "duration": 15,
    "start_time": "2024-12-15T22:33:14.566Z"
   },
   {
    "duration": 8,
    "start_time": "2024-12-15T22:33:14.582Z"
   },
   {
    "duration": 8,
    "start_time": "2024-12-15T22:33:14.591Z"
   },
   {
    "duration": 42,
    "start_time": "2024-12-15T22:33:14.602Z"
   },
   {
    "duration": 7,
    "start_time": "2024-12-15T22:33:14.645Z"
   },
   {
    "duration": 189,
    "start_time": "2024-12-15T22:33:14.654Z"
   },
   {
    "duration": 6,
    "start_time": "2024-12-15T22:33:14.845Z"
   },
   {
    "duration": 5,
    "start_time": "2024-12-15T22:33:14.853Z"
   },
   {
    "duration": 8,
    "start_time": "2024-12-15T22:33:14.860Z"
   },
   {
    "duration": 3,
    "start_time": "2024-12-15T22:42:10.691Z"
   },
   {
    "duration": 785,
    "start_time": "2024-12-15T22:42:15.506Z"
   },
   {
    "duration": 39,
    "start_time": "2024-12-15T22:42:16.294Z"
   },
   {
    "duration": 15,
    "start_time": "2024-12-15T22:42:16.335Z"
   },
   {
    "duration": 4,
    "start_time": "2024-12-15T22:42:16.352Z"
   },
   {
    "duration": 9,
    "start_time": "2024-12-15T22:42:16.357Z"
   },
   {
    "duration": 37,
    "start_time": "2024-12-15T22:42:16.367Z"
   },
   {
    "duration": 9,
    "start_time": "2024-12-15T22:42:16.406Z"
   },
   {
    "duration": 3,
    "start_time": "2024-12-15T22:42:16.443Z"
   },
   {
    "duration": 18,
    "start_time": "2024-12-15T22:42:16.447Z"
   },
   {
    "duration": 8,
    "start_time": "2024-12-15T22:42:16.468Z"
   },
   {
    "duration": 8,
    "start_time": "2024-12-15T22:42:16.478Z"
   },
   {
    "duration": 12,
    "start_time": "2024-12-15T22:42:16.487Z"
   },
   {
    "duration": 5,
    "start_time": "2024-12-15T22:42:16.501Z"
   },
   {
    "duration": 46,
    "start_time": "2024-12-15T22:42:16.507Z"
   },
   {
    "duration": 3,
    "start_time": "2024-12-15T22:42:16.555Z"
   },
   {
    "duration": 10,
    "start_time": "2024-12-15T22:42:16.559Z"
   },
   {
    "duration": 10,
    "start_time": "2024-12-15T22:42:16.571Z"
   },
   {
    "duration": 4,
    "start_time": "2024-12-15T22:42:16.583Z"
   },
   {
    "duration": 15,
    "start_time": "2024-12-15T22:42:16.588Z"
   },
   {
    "duration": 40,
    "start_time": "2024-12-15T22:42:16.604Z"
   },
   {
    "duration": 9,
    "start_time": "2024-12-15T22:42:16.645Z"
   },
   {
    "duration": 12,
    "start_time": "2024-12-15T22:42:16.655Z"
   },
   {
    "duration": 6,
    "start_time": "2024-12-15T22:42:16.670Z"
   },
   {
    "duration": 189,
    "start_time": "2024-12-15T22:42:16.678Z"
   },
   {
    "duration": 7,
    "start_time": "2024-12-15T22:42:16.869Z"
   },
   {
    "duration": 6,
    "start_time": "2024-12-15T22:42:16.878Z"
   },
   {
    "duration": 8,
    "start_time": "2024-12-15T22:42:16.885Z"
   },
   {
    "duration": 9,
    "start_time": "2024-12-15T23:14:29.918Z"
   },
   {
    "duration": 7,
    "start_time": "2024-12-15T23:17:50.021Z"
   },
   {
    "duration": 4,
    "start_time": "2024-12-15T23:18:33.029Z"
   },
   {
    "duration": 12,
    "start_time": "2024-12-15T23:18:33.757Z"
   },
   {
    "duration": 12,
    "start_time": "2024-12-15T23:19:19.377Z"
   },
   {
    "duration": 16,
    "start_time": "2024-12-15T23:24:41.193Z"
   },
   {
    "duration": 3,
    "start_time": "2024-12-15T23:29:17.051Z"
   },
   {
    "duration": 122,
    "start_time": "2024-12-15T23:29:57.882Z"
   },
   {
    "duration": 4,
    "start_time": "2024-12-15T23:30:32.123Z"
   },
   {
    "duration": 157,
    "start_time": "2024-12-15T23:30:44.482Z"
   },
   {
    "duration": 221,
    "start_time": "2024-12-15T23:35:37.855Z"
   },
   {
    "duration": 560,
    "start_time": "2024-12-15T23:35:55.867Z"
   },
   {
    "duration": 16,
    "start_time": "2024-12-15T23:41:08.598Z"
   },
   {
    "duration": 10,
    "start_time": "2024-12-15T23:41:13.125Z"
   },
   {
    "duration": 8,
    "start_time": "2024-12-15T23:41:13.906Z"
   },
   {
    "duration": 2508,
    "start_time": "2024-12-16T00:29:12.511Z"
   },
   {
    "duration": 65,
    "start_time": "2024-12-16T00:29:15.021Z"
   },
   {
    "duration": 11,
    "start_time": "2024-12-16T00:29:15.087Z"
   },
   {
    "duration": 4,
    "start_time": "2024-12-16T00:29:15.099Z"
   },
   {
    "duration": 8,
    "start_time": "2024-12-16T00:29:15.106Z"
   },
   {
    "duration": 42,
    "start_time": "2024-12-16T00:29:15.116Z"
   },
   {
    "duration": 10,
    "start_time": "2024-12-16T00:29:15.160Z"
   },
   {
    "duration": 4,
    "start_time": "2024-12-16T00:29:15.172Z"
   },
   {
    "duration": 40,
    "start_time": "2024-12-16T00:29:15.177Z"
   },
   {
    "duration": 11,
    "start_time": "2024-12-16T00:29:15.219Z"
   },
   {
    "duration": 9,
    "start_time": "2024-12-16T00:29:15.232Z"
   },
   {
    "duration": 13,
    "start_time": "2024-12-16T00:29:15.245Z"
   },
   {
    "duration": 4,
    "start_time": "2024-12-16T00:29:15.260Z"
   },
   {
    "duration": 13,
    "start_time": "2024-12-16T00:29:15.267Z"
   },
   {
    "duration": 32,
    "start_time": "2024-12-16T00:29:15.281Z"
   },
   {
    "duration": 9,
    "start_time": "2024-12-16T00:29:15.315Z"
   },
   {
    "duration": 11,
    "start_time": "2024-12-16T00:29:15.326Z"
   },
   {
    "duration": 5,
    "start_time": "2024-12-16T00:29:15.338Z"
   },
   {
    "duration": 18,
    "start_time": "2024-12-16T00:29:15.344Z"
   },
   {
    "duration": 4,
    "start_time": "2024-12-16T00:29:15.364Z"
   },
   {
    "duration": 789,
    "start_time": "2024-12-16T00:29:15.369Z"
   },
   {
    "duration": 0,
    "start_time": "2024-12-16T00:29:16.160Z"
   },
   {
    "duration": 0,
    "start_time": "2024-12-16T00:29:16.161Z"
   },
   {
    "duration": 0,
    "start_time": "2024-12-16T00:29:16.162Z"
   },
   {
    "duration": 0,
    "start_time": "2024-12-16T00:29:16.163Z"
   },
   {
    "duration": 0,
    "start_time": "2024-12-16T00:29:16.164Z"
   },
   {
    "duration": 0,
    "start_time": "2024-12-16T00:29:16.165Z"
   },
   {
    "duration": 0,
    "start_time": "2024-12-16T00:29:16.166Z"
   },
   {
    "duration": 16,
    "start_time": "2024-12-16T00:30:21.477Z"
   },
   {
    "duration": 313,
    "start_time": "2024-12-16T00:36:06.395Z"
   },
   {
    "duration": 333,
    "start_time": "2024-12-16T00:38:55.746Z"
   },
   {
    "duration": 15,
    "start_time": "2024-12-16T00:44:28.547Z"
   },
   {
    "duration": 14,
    "start_time": "2024-12-16T00:44:48.234Z"
   },
   {
    "duration": 11,
    "start_time": "2024-12-16T00:49:18.038Z"
   },
   {
    "duration": 5,
    "start_time": "2024-12-16T00:50:28.789Z"
   },
   {
    "duration": 13,
    "start_time": "2024-12-16T00:51:02.478Z"
   },
   {
    "duration": 15,
    "start_time": "2024-12-16T00:51:25.643Z"
   },
   {
    "duration": 23,
    "start_time": "2024-12-16T00:51:36.340Z"
   },
   {
    "duration": 23,
    "start_time": "2024-12-16T00:51:49.228Z"
   },
   {
    "duration": 13,
    "start_time": "2024-12-16T00:51:59.640Z"
   },
   {
    "duration": 14,
    "start_time": "2024-12-16T00:52:14.286Z"
   },
   {
    "duration": 7,
    "start_time": "2024-12-16T01:06:35.260Z"
   },
   {
    "duration": 18,
    "start_time": "2024-12-16T01:06:43.370Z"
   },
   {
    "duration": 15,
    "start_time": "2024-12-16T01:11:54.228Z"
   },
   {
    "duration": 2552,
    "start_time": "2024-12-16T01:51:24.882Z"
   },
   {
    "duration": 71,
    "start_time": "2024-12-16T01:51:27.436Z"
   },
   {
    "duration": 11,
    "start_time": "2024-12-16T01:51:27.509Z"
   },
   {
    "duration": 3,
    "start_time": "2024-12-16T01:51:27.522Z"
   },
   {
    "duration": 8,
    "start_time": "2024-12-16T01:51:27.528Z"
   },
   {
    "duration": 39,
    "start_time": "2024-12-16T01:51:27.538Z"
   },
   {
    "duration": 9,
    "start_time": "2024-12-16T01:51:27.579Z"
   },
   {
    "duration": 4,
    "start_time": "2024-12-16T01:51:27.589Z"
   },
   {
    "duration": 16,
    "start_time": "2024-12-16T01:51:27.595Z"
   },
   {
    "duration": 29,
    "start_time": "2024-12-16T01:51:27.614Z"
   },
   {
    "duration": 8,
    "start_time": "2024-12-16T01:51:27.646Z"
   },
   {
    "duration": 12,
    "start_time": "2024-12-16T01:51:27.655Z"
   },
   {
    "duration": 5,
    "start_time": "2024-12-16T01:51:27.669Z"
   },
   {
    "duration": 12,
    "start_time": "2024-12-16T01:51:27.677Z"
   },
   {
    "duration": 3,
    "start_time": "2024-12-16T01:51:27.691Z"
   },
   {
    "duration": 8,
    "start_time": "2024-12-16T01:51:27.695Z"
   },
   {
    "duration": 11,
    "start_time": "2024-12-16T01:51:27.742Z"
   },
   {
    "duration": 4,
    "start_time": "2024-12-16T01:51:27.754Z"
   },
   {
    "duration": 5,
    "start_time": "2024-12-16T01:51:27.760Z"
   },
   {
    "duration": 0,
    "start_time": "2024-12-16T01:51:27.766Z"
   },
   {
    "duration": 0,
    "start_time": "2024-12-16T01:51:27.767Z"
   },
   {
    "duration": 0,
    "start_time": "2024-12-16T01:51:27.768Z"
   },
   {
    "duration": 0,
    "start_time": "2024-12-16T01:51:27.769Z"
   },
   {
    "duration": 0,
    "start_time": "2024-12-16T01:51:27.771Z"
   },
   {
    "duration": 0,
    "start_time": "2024-12-16T01:51:27.772Z"
   },
   {
    "duration": 0,
    "start_time": "2024-12-16T01:51:27.773Z"
   },
   {
    "duration": 0,
    "start_time": "2024-12-16T01:51:27.774Z"
   },
   {
    "duration": 0,
    "start_time": "2024-12-16T01:51:27.776Z"
   },
   {
    "duration": 477,
    "start_time": "2024-12-16T01:54:32.802Z"
   },
   {
    "duration": 19,
    "start_time": "2024-12-16T01:55:05.102Z"
   },
   {
    "duration": 15,
    "start_time": "2024-12-16T02:02:49.100Z"
   },
   {
    "duration": 14,
    "start_time": "2024-12-16T02:02:51.762Z"
   },
   {
    "duration": 22,
    "start_time": "2024-12-16T02:05:55.218Z"
   },
   {
    "duration": 449,
    "start_time": "2024-12-16T02:06:07.227Z"
   },
   {
    "duration": 15,
    "start_time": "2024-12-16T02:06:22.770Z"
   },
   {
    "duration": 988,
    "start_time": "2024-12-16T02:10:17.572Z"
   },
   {
    "duration": 4,
    "start_time": "2024-12-16T02:10:35.318Z"
   },
   {
    "duration": 171,
    "start_time": "2024-12-16T02:11:09.647Z"
   },
   {
    "duration": 5,
    "start_time": "2024-12-16T02:12:35.016Z"
   },
   {
    "duration": 8857,
    "start_time": "2024-12-16T02:12:35.495Z"
   },
   {
    "duration": 16,
    "start_time": "2024-12-16T02:15:13.904Z"
   },
   {
    "duration": 69,
    "start_time": "2024-12-16T02:15:40.158Z"
   },
   {
    "duration": 933,
    "start_time": "2024-12-16T02:15:46.757Z"
   },
   {
    "duration": 40,
    "start_time": "2024-12-16T02:15:47.693Z"
   },
   {
    "duration": 17,
    "start_time": "2024-12-16T02:15:47.735Z"
   },
   {
    "duration": 3,
    "start_time": "2024-12-16T02:15:47.753Z"
   },
   {
    "duration": 8,
    "start_time": "2024-12-16T02:15:47.760Z"
   },
   {
    "duration": 38,
    "start_time": "2024-12-16T02:15:47.769Z"
   },
   {
    "duration": 35,
    "start_time": "2024-12-16T02:15:47.809Z"
   },
   {
    "duration": 3,
    "start_time": "2024-12-16T02:15:47.845Z"
   },
   {
    "duration": 17,
    "start_time": "2024-12-16T02:15:47.850Z"
   },
   {
    "duration": 8,
    "start_time": "2024-12-16T02:15:47.868Z"
   },
   {
    "duration": 8,
    "start_time": "2024-12-16T02:15:47.878Z"
   },
   {
    "duration": 11,
    "start_time": "2024-12-16T02:15:47.887Z"
   },
   {
    "duration": 5,
    "start_time": "2024-12-16T02:15:47.900Z"
   },
   {
    "duration": 13,
    "start_time": "2024-12-16T02:15:47.942Z"
   },
   {
    "duration": 4,
    "start_time": "2024-12-16T02:15:47.956Z"
   },
   {
    "duration": 9,
    "start_time": "2024-12-16T02:15:47.962Z"
   },
   {
    "duration": 11,
    "start_time": "2024-12-16T02:15:47.972Z"
   },
   {
    "duration": 19,
    "start_time": "2024-12-16T02:15:47.985Z"
   },
   {
    "duration": 37,
    "start_time": "2024-12-16T02:15:48.006Z"
   },
   {
    "duration": 380,
    "start_time": "2024-12-16T02:15:48.044Z"
   },
   {
    "duration": 17,
    "start_time": "2024-12-16T02:15:48.426Z"
   },
   {
    "duration": 496,
    "start_time": "2024-12-16T02:15:48.445Z"
   },
   {
    "duration": 9,
    "start_time": "2024-12-16T02:15:48.943Z"
   },
   {
    "duration": 10,
    "start_time": "2024-12-16T02:15:48.953Z"
   },
   {
    "duration": 6,
    "start_time": "2024-12-16T02:15:48.964Z"
   },
   {
    "duration": 178,
    "start_time": "2024-12-16T02:15:48.971Z"
   },
   {
    "duration": 6,
    "start_time": "2024-12-16T02:15:49.151Z"
   },
   {
    "duration": 6,
    "start_time": "2024-12-16T02:15:49.159Z"
   },
   {
    "duration": 8,
    "start_time": "2024-12-16T02:15:49.166Z"
   },
   {
    "duration": 41,
    "start_time": "2024-12-16T02:16:18.601Z"
   },
   {
    "duration": 41,
    "start_time": "2024-12-16T02:17:40.152Z"
   },
   {
    "duration": 13,
    "start_time": "2024-12-16T02:19:33.907Z"
   },
   {
    "duration": 128,
    "start_time": "2024-12-16T02:20:20.675Z"
   },
   {
    "duration": 4,
    "start_time": "2024-12-16T02:23:43.388Z"
   },
   {
    "duration": 41,
    "start_time": "2024-12-16T02:23:43.994Z"
   },
   {
    "duration": 39,
    "start_time": "2024-12-16T02:25:14.427Z"
   },
   {
    "duration": 42,
    "start_time": "2024-12-16T02:26:01.722Z"
   },
   {
    "duration": 279,
    "start_time": "2024-12-16T02:26:56.976Z"
   },
   {
    "duration": 39,
    "start_time": "2024-12-16T02:27:08.877Z"
   },
   {
    "duration": 12834,
    "start_time": "2024-12-16T02:28:34.947Z"
   },
   {
    "duration": 12690,
    "start_time": "2024-12-16T02:29:24.238Z"
   },
   {
    "duration": 172,
    "start_time": "2024-12-16T02:33:25.889Z"
   },
   {
    "duration": 545,
    "start_time": "2024-12-16T02:33:36.353Z"
   },
   {
    "duration": 316,
    "start_time": "2024-12-16T02:34:28.283Z"
   },
   {
    "duration": 291,
    "start_time": "2024-12-16T02:36:03.785Z"
   },
   {
    "duration": 901,
    "start_time": "2024-12-16T02:36:53.201Z"
   },
   {
    "duration": 1050,
    "start_time": "2024-12-16T02:37:26.945Z"
   },
   {
    "duration": 293,
    "start_time": "2024-12-16T02:38:01.863Z"
   },
   {
    "duration": 1147,
    "start_time": "2024-12-16T02:38:58.516Z"
   },
   {
    "duration": 224,
    "start_time": "2024-12-16T02:39:54.189Z"
   },
   {
    "duration": 1136,
    "start_time": "2024-12-16T02:40:00.196Z"
   },
   {
    "duration": 2821,
    "start_time": "2024-12-16T04:49:59.198Z"
   },
   {
    "duration": 70,
    "start_time": "2024-12-16T04:50:02.021Z"
   },
   {
    "duration": 15,
    "start_time": "2024-12-16T04:50:02.093Z"
   },
   {
    "duration": 4,
    "start_time": "2024-12-16T04:50:02.112Z"
   },
   {
    "duration": 9,
    "start_time": "2024-12-16T04:50:02.117Z"
   },
   {
    "duration": 41,
    "start_time": "2024-12-16T04:50:02.127Z"
   },
   {
    "duration": 10,
    "start_time": "2024-12-16T04:50:02.170Z"
   },
   {
    "duration": 4,
    "start_time": "2024-12-16T04:50:02.182Z"
   },
   {
    "duration": 43,
    "start_time": "2024-12-16T04:50:02.188Z"
   },
   {
    "duration": 8,
    "start_time": "2024-12-16T04:50:02.235Z"
   },
   {
    "duration": 9,
    "start_time": "2024-12-16T04:50:02.245Z"
   },
   {
    "duration": 13,
    "start_time": "2024-12-16T04:50:02.256Z"
   },
   {
    "duration": 5,
    "start_time": "2024-12-16T04:50:02.271Z"
   },
   {
    "duration": 14,
    "start_time": "2024-12-16T04:50:02.278Z"
   },
   {
    "duration": 4,
    "start_time": "2024-12-16T04:50:02.325Z"
   },
   {
    "duration": 10,
    "start_time": "2024-12-16T04:50:02.331Z"
   },
   {
    "duration": 13,
    "start_time": "2024-12-16T04:50:02.342Z"
   },
   {
    "duration": 23,
    "start_time": "2024-12-16T04:50:02.357Z"
   },
   {
    "duration": 3,
    "start_time": "2024-12-16T04:50:02.382Z"
   },
   {
    "duration": 324,
    "start_time": "2024-12-16T04:50:02.387Z"
   },
   {
    "duration": 1898,
    "start_time": "2024-12-16T04:50:02.713Z"
   },
   {
    "duration": 0,
    "start_time": "2024-12-16T04:50:04.614Z"
   },
   {
    "duration": 0,
    "start_time": "2024-12-16T04:50:04.624Z"
   },
   {
    "duration": 0,
    "start_time": "2024-12-16T04:50:04.625Z"
   },
   {
    "duration": 0,
    "start_time": "2024-12-16T04:50:04.627Z"
   },
   {
    "duration": 0,
    "start_time": "2024-12-16T04:50:04.628Z"
   },
   {
    "duration": 0,
    "start_time": "2024-12-16T04:50:04.630Z"
   },
   {
    "duration": 0,
    "start_time": "2024-12-16T04:50:04.632Z"
   },
   {
    "duration": 0,
    "start_time": "2024-12-16T04:50:04.633Z"
   },
   {
    "duration": 0,
    "start_time": "2024-12-16T04:50:04.635Z"
   },
   {
    "duration": 0,
    "start_time": "2024-12-16T04:50:04.637Z"
   },
   {
    "duration": 12770,
    "start_time": "2024-12-16T04:51:12.742Z"
   },
   {
    "duration": 404,
    "start_time": "2024-12-16T04:51:56.738Z"
   },
   {
    "duration": 267,
    "start_time": "2024-12-16T04:52:30.808Z"
   },
   {
    "duration": 230,
    "start_time": "2024-12-16T04:52:51.960Z"
   },
   {
    "duration": 1146,
    "start_time": "2024-12-16T04:53:14.574Z"
   },
   {
    "duration": 253,
    "start_time": "2024-12-16T04:53:42.729Z"
   },
   {
    "duration": 14,
    "start_time": "2024-12-16T04:54:11.691Z"
   },
   {
    "duration": 234,
    "start_time": "2024-12-16T04:55:58.256Z"
   },
   {
    "duration": 220,
    "start_time": "2024-12-16T04:56:04.078Z"
   },
   {
    "duration": 253,
    "start_time": "2024-12-16T04:56:09.191Z"
   },
   {
    "duration": 829,
    "start_time": "2024-12-16T04:56:29.965Z"
   },
   {
    "duration": 45,
    "start_time": "2024-12-16T04:56:30.796Z"
   },
   {
    "duration": 11,
    "start_time": "2024-12-16T04:56:30.843Z"
   },
   {
    "duration": 4,
    "start_time": "2024-12-16T04:56:30.858Z"
   },
   {
    "duration": 9,
    "start_time": "2024-12-16T04:56:30.864Z"
   },
   {
    "duration": 67,
    "start_time": "2024-12-16T04:56:30.874Z"
   },
   {
    "duration": 9,
    "start_time": "2024-12-16T04:56:30.943Z"
   },
   {
    "duration": 4,
    "start_time": "2024-12-16T04:56:30.954Z"
   },
   {
    "duration": 17,
    "start_time": "2024-12-16T04:56:30.960Z"
   },
   {
    "duration": 8,
    "start_time": "2024-12-16T04:56:30.981Z"
   },
   {
    "duration": 39,
    "start_time": "2024-12-16T04:56:30.990Z"
   },
   {
    "duration": 12,
    "start_time": "2024-12-16T04:56:31.031Z"
   },
   {
    "duration": 5,
    "start_time": "2024-12-16T04:56:31.045Z"
   },
   {
    "duration": 13,
    "start_time": "2024-12-16T04:56:31.051Z"
   },
   {
    "duration": 3,
    "start_time": "2024-12-16T04:56:31.066Z"
   },
   {
    "duration": 8,
    "start_time": "2024-12-16T04:56:31.070Z"
   },
   {
    "duration": 44,
    "start_time": "2024-12-16T04:56:31.080Z"
   },
   {
    "duration": 20,
    "start_time": "2024-12-16T04:56:31.126Z"
   },
   {
    "duration": 2,
    "start_time": "2024-12-16T04:56:31.148Z"
   },
   {
    "duration": 273,
    "start_time": "2024-12-16T04:56:31.152Z"
   },
   {
    "duration": 274,
    "start_time": "2024-12-16T04:56:31.428Z"
   },
   {
    "duration": 300,
    "start_time": "2024-12-16T04:56:31.703Z"
   },
   {
    "duration": 26,
    "start_time": "2024-12-16T04:56:32.005Z"
   },
   {
    "duration": 9,
    "start_time": "2024-12-16T04:56:32.033Z"
   },
   {
    "duration": 10,
    "start_time": "2024-12-16T04:56:32.044Z"
   },
   {
    "duration": 5,
    "start_time": "2024-12-16T04:56:32.056Z"
   },
   {
    "duration": 190,
    "start_time": "2024-12-16T04:56:32.063Z"
   },
   {
    "duration": 6,
    "start_time": "2024-12-16T04:56:32.256Z"
   },
   {
    "duration": 6,
    "start_time": "2024-12-16T04:56:32.263Z"
   },
   {
    "duration": 8,
    "start_time": "2024-12-16T04:56:32.270Z"
   },
   {
    "duration": 2607,
    "start_time": "2024-12-16T16:14:29.603Z"
   },
   {
    "duration": 81,
    "start_time": "2024-12-16T16:14:32.212Z"
   },
   {
    "duration": 11,
    "start_time": "2024-12-16T16:14:32.295Z"
   },
   {
    "duration": 3,
    "start_time": "2024-12-16T16:14:32.307Z"
   },
   {
    "duration": 9,
    "start_time": "2024-12-16T16:14:32.313Z"
   },
   {
    "duration": 38,
    "start_time": "2024-12-16T16:14:32.323Z"
   },
   {
    "duration": 10,
    "start_time": "2024-12-16T16:14:32.364Z"
   },
   {
    "duration": 3,
    "start_time": "2024-12-16T16:14:32.376Z"
   },
   {
    "duration": 19,
    "start_time": "2024-12-16T16:14:32.409Z"
   },
   {
    "duration": 10,
    "start_time": "2024-12-16T16:14:32.429Z"
   },
   {
    "duration": 9,
    "start_time": "2024-12-16T16:14:32.440Z"
   },
   {
    "duration": 12,
    "start_time": "2024-12-16T16:14:32.451Z"
   },
   {
    "duration": 5,
    "start_time": "2024-12-16T16:14:32.465Z"
   },
   {
    "duration": 13,
    "start_time": "2024-12-16T16:14:32.508Z"
   },
   {
    "duration": 5,
    "start_time": "2024-12-16T16:14:32.523Z"
   },
   {
    "duration": 9,
    "start_time": "2024-12-16T16:14:32.530Z"
   },
   {
    "duration": 11,
    "start_time": "2024-12-16T16:14:32.542Z"
   },
   {
    "duration": 24,
    "start_time": "2024-12-16T16:14:32.555Z"
   },
   {
    "duration": 28,
    "start_time": "2024-12-16T16:14:32.581Z"
   },
   {
    "duration": 330,
    "start_time": "2024-12-16T16:14:32.611Z"
   },
   {
    "duration": 224,
    "start_time": "2024-12-16T16:14:32.943Z"
   },
   {
    "duration": 299,
    "start_time": "2024-12-16T16:14:33.169Z"
   },
   {
    "duration": 13,
    "start_time": "2024-12-16T16:14:33.470Z"
   },
   {
    "duration": 9,
    "start_time": "2024-12-16T16:14:33.485Z"
   },
   {
    "duration": 18,
    "start_time": "2024-12-16T16:14:33.495Z"
   },
   {
    "duration": 6,
    "start_time": "2024-12-16T16:14:33.515Z"
   },
   {
    "duration": 179,
    "start_time": "2024-12-16T16:14:33.522Z"
   },
   {
    "duration": 7,
    "start_time": "2024-12-16T16:14:33.703Z"
   },
   {
    "duration": 6,
    "start_time": "2024-12-16T16:14:33.712Z"
   },
   {
    "duration": 8,
    "start_time": "2024-12-16T16:14:33.720Z"
   },
   {
    "duration": 846,
    "start_time": "2024-12-16T16:25:49.258Z"
   },
   {
    "duration": 43,
    "start_time": "2024-12-16T16:25:50.108Z"
   },
   {
    "duration": 12,
    "start_time": "2024-12-16T16:25:50.152Z"
   },
   {
    "duration": 4,
    "start_time": "2024-12-16T16:25:50.165Z"
   },
   {
    "duration": 8,
    "start_time": "2024-12-16T16:25:50.172Z"
   },
   {
    "duration": 59,
    "start_time": "2024-12-16T16:25:50.181Z"
   },
   {
    "duration": 11,
    "start_time": "2024-12-16T16:25:50.242Z"
   },
   {
    "duration": 3,
    "start_time": "2024-12-16T16:25:50.255Z"
   },
   {
    "duration": 17,
    "start_time": "2024-12-16T16:25:50.260Z"
   },
   {
    "duration": 35,
    "start_time": "2024-12-16T16:25:50.278Z"
   },
   {
    "duration": 9,
    "start_time": "2024-12-16T16:25:50.314Z"
   },
   {
    "duration": 13,
    "start_time": "2024-12-16T16:25:50.324Z"
   },
   {
    "duration": 5,
    "start_time": "2024-12-16T16:25:50.338Z"
   },
   {
    "duration": 12,
    "start_time": "2024-12-16T16:25:50.347Z"
   },
   {
    "duration": 3,
    "start_time": "2024-12-16T16:25:50.361Z"
   },
   {
    "duration": 9,
    "start_time": "2024-12-16T16:25:50.365Z"
   },
   {
    "duration": 12,
    "start_time": "2024-12-16T16:25:50.409Z"
   },
   {
    "duration": 19,
    "start_time": "2024-12-16T16:25:50.423Z"
   },
   {
    "duration": 3,
    "start_time": "2024-12-16T16:25:50.443Z"
   },
   {
    "duration": 285,
    "start_time": "2024-12-16T16:25:50.448Z"
   },
   {
    "duration": 333,
    "start_time": "2024-12-16T16:25:50.735Z"
   },
   {
    "duration": 298,
    "start_time": "2024-12-16T16:25:51.070Z"
   },
   {
    "duration": 13,
    "start_time": "2024-12-16T16:25:51.370Z"
   },
   {
    "duration": 648,
    "start_time": "2024-12-16T16:25:51.385Z"
   },
   {
    "duration": 0,
    "start_time": "2024-12-16T16:25:52.034Z"
   },
   {
    "duration": 0,
    "start_time": "2024-12-16T16:25:52.036Z"
   },
   {
    "duration": 0,
    "start_time": "2024-12-16T16:25:52.036Z"
   },
   {
    "duration": 0,
    "start_time": "2024-12-16T16:25:52.037Z"
   },
   {
    "duration": 0,
    "start_time": "2024-12-16T16:25:52.038Z"
   },
   {
    "duration": 0,
    "start_time": "2024-12-16T16:25:52.039Z"
   },
   {
    "duration": 0,
    "start_time": "2024-12-16T16:25:52.039Z"
   },
   {
    "duration": 83,
    "start_time": "2024-12-16T16:26:31.020Z"
   },
   {
    "duration": 173,
    "start_time": "2024-12-16T16:30:05.162Z"
   },
   {
    "duration": 219,
    "start_time": "2024-12-16T16:37:33.605Z"
   },
   {
    "duration": 8,
    "start_time": "2024-12-16T16:42:58.789Z"
   },
   {
    "duration": 4,
    "start_time": "2024-12-16T16:44:14.953Z"
   },
   {
    "duration": 326,
    "start_time": "2024-12-16T16:44:44.341Z"
   },
   {
    "duration": 858,
    "start_time": "2024-12-16T16:45:39.151Z"
   },
   {
    "duration": 42,
    "start_time": "2024-12-16T16:45:40.011Z"
   },
   {
    "duration": 11,
    "start_time": "2024-12-16T16:45:40.055Z"
   },
   {
    "duration": 6,
    "start_time": "2024-12-16T16:45:40.067Z"
   },
   {
    "duration": 8,
    "start_time": "2024-12-16T16:45:40.076Z"
   },
   {
    "duration": 59,
    "start_time": "2024-12-16T16:45:40.085Z"
   },
   {
    "duration": 12,
    "start_time": "2024-12-16T16:45:40.146Z"
   },
   {
    "duration": 3,
    "start_time": "2024-12-16T16:45:40.159Z"
   },
   {
    "duration": 19,
    "start_time": "2024-12-16T16:45:40.164Z"
   },
   {
    "duration": 29,
    "start_time": "2024-12-16T16:45:40.185Z"
   },
   {
    "duration": 346,
    "start_time": "2024-12-16T16:45:40.216Z"
   },
   {
    "duration": 4,
    "start_time": "2024-12-16T16:45:40.564Z"
   },
   {
    "duration": 13,
    "start_time": "2024-12-16T16:45:40.571Z"
   },
   {
    "duration": 5,
    "start_time": "2024-12-16T16:45:40.588Z"
   },
   {
    "duration": 15,
    "start_time": "2024-12-16T16:45:40.610Z"
   },
   {
    "duration": 3,
    "start_time": "2024-12-16T16:45:40.627Z"
   },
   {
    "duration": 9,
    "start_time": "2024-12-16T16:45:40.631Z"
   },
   {
    "duration": 13,
    "start_time": "2024-12-16T16:45:40.642Z"
   },
   {
    "duration": 19,
    "start_time": "2024-12-16T16:45:40.657Z"
   },
   {
    "duration": 3,
    "start_time": "2024-12-16T16:45:40.710Z"
   },
   {
    "duration": 266,
    "start_time": "2024-12-16T16:45:40.714Z"
   },
   {
    "duration": 293,
    "start_time": "2024-12-16T16:45:40.982Z"
   },
   {
    "duration": 292,
    "start_time": "2024-12-16T16:45:41.277Z"
   },
   {
    "duration": 14,
    "start_time": "2024-12-16T16:45:41.571Z"
   },
   {
    "duration": 227,
    "start_time": "2024-12-16T16:45:41.587Z"
   },
   {
    "duration": 9,
    "start_time": "2024-12-16T16:45:41.816Z"
   },
   {
    "duration": 10,
    "start_time": "2024-12-16T16:45:41.827Z"
   },
   {
    "duration": 7,
    "start_time": "2024-12-16T16:45:41.838Z"
   },
   {
    "duration": 187,
    "start_time": "2024-12-16T16:45:41.847Z"
   },
   {
    "duration": 8,
    "start_time": "2024-12-16T16:45:42.035Z"
   },
   {
    "duration": 6,
    "start_time": "2024-12-16T16:45:42.044Z"
   },
   {
    "duration": 9,
    "start_time": "2024-12-16T16:45:42.052Z"
   },
   {
    "duration": 10,
    "start_time": "2024-12-16T16:54:09.047Z"
   },
   {
    "duration": 8,
    "start_time": "2024-12-16T16:55:55.618Z"
   },
   {
    "duration": 9,
    "start_time": "2024-12-16T16:56:29.607Z"
   },
   {
    "duration": 871,
    "start_time": "2024-12-16T16:56:34.832Z"
   },
   {
    "duration": 41,
    "start_time": "2024-12-16T16:56:35.705Z"
   },
   {
    "duration": 11,
    "start_time": "2024-12-16T16:56:35.748Z"
   },
   {
    "duration": 3,
    "start_time": "2024-12-16T16:56:35.761Z"
   },
   {
    "duration": 9,
    "start_time": "2024-12-16T16:56:35.766Z"
   },
   {
    "duration": 66,
    "start_time": "2024-12-16T16:56:35.777Z"
   },
   {
    "duration": 10,
    "start_time": "2024-12-16T16:56:35.844Z"
   },
   {
    "duration": 5,
    "start_time": "2024-12-16T16:56:35.856Z"
   },
   {
    "duration": 17,
    "start_time": "2024-12-16T16:56:35.863Z"
   },
   {
    "duration": 30,
    "start_time": "2024-12-16T16:56:35.884Z"
   },
   {
    "duration": 7,
    "start_time": "2024-12-16T16:56:35.915Z"
   },
   {
    "duration": 7,
    "start_time": "2024-12-16T16:56:35.924Z"
   },
   {
    "duration": 12,
    "start_time": "2024-12-16T16:56:35.933Z"
   },
   {
    "duration": 5,
    "start_time": "2024-12-16T16:56:35.947Z"
   },
   {
    "duration": 13,
    "start_time": "2024-12-16T16:56:35.953Z"
   },
   {
    "duration": 4,
    "start_time": "2024-12-16T16:56:35.968Z"
   },
   {
    "duration": 44,
    "start_time": "2024-12-16T16:56:35.973Z"
   },
   {
    "duration": 12,
    "start_time": "2024-12-16T16:56:36.018Z"
   },
   {
    "duration": 19,
    "start_time": "2024-12-16T16:56:36.031Z"
   },
   {
    "duration": 5,
    "start_time": "2024-12-16T16:56:36.052Z"
   },
   {
    "duration": 322,
    "start_time": "2024-12-16T16:56:36.058Z"
   },
   {
    "duration": 287,
    "start_time": "2024-12-16T16:56:36.381Z"
   },
   {
    "duration": 296,
    "start_time": "2024-12-16T16:56:36.669Z"
   },
   {
    "duration": 14,
    "start_time": "2024-12-16T16:56:36.967Z"
   },
   {
    "duration": 164,
    "start_time": "2024-12-16T16:56:36.983Z"
   },
   {
    "duration": 71,
    "start_time": "2024-12-16T16:56:37.149Z"
   },
   {
    "duration": 12,
    "start_time": "2024-12-16T16:56:37.222Z"
   },
   {
    "duration": 6,
    "start_time": "2024-12-16T16:56:37.237Z"
   },
   {
    "duration": 201,
    "start_time": "2024-12-16T16:56:37.244Z"
   },
   {
    "duration": 7,
    "start_time": "2024-12-16T16:56:37.447Z"
   },
   {
    "duration": 6,
    "start_time": "2024-12-16T16:56:37.455Z"
   },
   {
    "duration": 8,
    "start_time": "2024-12-16T16:56:37.463Z"
   },
   {
    "duration": 7,
    "start_time": "2024-12-16T17:09:13.645Z"
   },
   {
    "duration": 5,
    "start_time": "2024-12-16T17:09:24.444Z"
   },
   {
    "duration": 4,
    "start_time": "2024-12-16T17:10:19.195Z"
   },
   {
    "duration": 871,
    "start_time": "2024-12-16T17:25:06.008Z"
   },
   {
    "duration": 46,
    "start_time": "2024-12-16T17:25:06.881Z"
   },
   {
    "duration": 11,
    "start_time": "2024-12-16T17:25:06.929Z"
   },
   {
    "duration": 3,
    "start_time": "2024-12-16T17:25:06.942Z"
   },
   {
    "duration": 9,
    "start_time": "2024-12-16T17:25:06.947Z"
   },
   {
    "duration": 57,
    "start_time": "2024-12-16T17:25:06.957Z"
   },
   {
    "duration": 10,
    "start_time": "2024-12-16T17:25:07.015Z"
   },
   {
    "duration": 4,
    "start_time": "2024-12-16T17:25:07.027Z"
   },
   {
    "duration": 18,
    "start_time": "2024-12-16T17:25:07.033Z"
   },
   {
    "duration": 8,
    "start_time": "2024-12-16T17:25:07.054Z"
   },
   {
    "duration": 8,
    "start_time": "2024-12-16T17:25:07.063Z"
   },
   {
    "duration": 42,
    "start_time": "2024-12-16T17:25:07.073Z"
   },
   {
    "duration": 12,
    "start_time": "2024-12-16T17:25:07.117Z"
   },
   {
    "duration": 5,
    "start_time": "2024-12-16T17:25:07.130Z"
   },
   {
    "duration": 14,
    "start_time": "2024-12-16T17:25:07.136Z"
   },
   {
    "duration": 3,
    "start_time": "2024-12-16T17:25:07.152Z"
   },
   {
    "duration": 9,
    "start_time": "2024-12-16T17:25:07.157Z"
   },
   {
    "duration": 52,
    "start_time": "2024-12-16T17:25:07.168Z"
   },
   {
    "duration": 20,
    "start_time": "2024-12-16T17:25:07.222Z"
   },
   {
    "duration": 3,
    "start_time": "2024-12-16T17:25:07.244Z"
   },
   {
    "duration": 294,
    "start_time": "2024-12-16T17:25:07.249Z"
   },
   {
    "duration": 325,
    "start_time": "2024-12-16T17:25:07.546Z"
   },
   {
    "duration": 299,
    "start_time": "2024-12-16T17:25:07.874Z"
   },
   {
    "duration": 14,
    "start_time": "2024-12-16T17:25:08.174Z"
   },
   {
    "duration": 232,
    "start_time": "2024-12-16T17:25:08.191Z"
   },
   {
    "duration": 4,
    "start_time": "2024-12-16T17:25:08.425Z"
   },
   {
    "duration": 8,
    "start_time": "2024-12-16T17:25:08.431Z"
   },
   {
    "duration": 11,
    "start_time": "2024-12-16T17:25:08.443Z"
   },
   {
    "duration": 6,
    "start_time": "2024-12-16T17:25:08.455Z"
   },
   {
    "duration": 210,
    "start_time": "2024-12-16T17:25:08.463Z"
   },
   {
    "duration": 6,
    "start_time": "2024-12-16T17:25:08.675Z"
   },
   {
    "duration": 7,
    "start_time": "2024-12-16T17:25:08.683Z"
   },
   {
    "duration": 8,
    "start_time": "2024-12-16T17:25:08.692Z"
   },
   {
    "duration": 887,
    "start_time": "2024-12-16T17:39:58.801Z"
   },
   {
    "duration": 46,
    "start_time": "2024-12-16T17:39:59.690Z"
   },
   {
    "duration": 12,
    "start_time": "2024-12-16T17:39:59.738Z"
   },
   {
    "duration": 4,
    "start_time": "2024-12-16T17:39:59.752Z"
   },
   {
    "duration": 9,
    "start_time": "2024-12-16T17:39:59.759Z"
   },
   {
    "duration": 64,
    "start_time": "2024-12-16T17:39:59.770Z"
   },
   {
    "duration": 11,
    "start_time": "2024-12-16T17:39:59.836Z"
   },
   {
    "duration": 5,
    "start_time": "2024-12-16T17:39:59.848Z"
   },
   {
    "duration": 18,
    "start_time": "2024-12-16T17:39:59.855Z"
   },
   {
    "duration": 8,
    "start_time": "2024-12-16T17:39:59.875Z"
   },
   {
    "duration": 36,
    "start_time": "2024-12-16T17:39:59.884Z"
   },
   {
    "duration": 12,
    "start_time": "2024-12-16T17:39:59.921Z"
   },
   {
    "duration": 5,
    "start_time": "2024-12-16T17:39:59.935Z"
   },
   {
    "duration": 12,
    "start_time": "2024-12-16T17:39:59.944Z"
   },
   {
    "duration": 3,
    "start_time": "2024-12-16T17:39:59.958Z"
   },
   {
    "duration": 9,
    "start_time": "2024-12-16T17:39:59.963Z"
   },
   {
    "duration": 47,
    "start_time": "2024-12-16T17:39:59.973Z"
   },
   {
    "duration": 22,
    "start_time": "2024-12-16T17:40:00.022Z"
   },
   {
    "duration": 4,
    "start_time": "2024-12-16T17:40:00.047Z"
   },
   {
    "duration": 280,
    "start_time": "2024-12-16T17:40:00.053Z"
   },
   {
    "duration": 327,
    "start_time": "2024-12-16T17:40:00.334Z"
   },
   {
    "duration": 277,
    "start_time": "2024-12-16T17:40:00.663Z"
   },
   {
    "duration": 13,
    "start_time": "2024-12-16T17:40:00.942Z"
   },
   {
    "duration": 185,
    "start_time": "2024-12-16T17:40:00.957Z"
   },
   {
    "duration": 4,
    "start_time": "2024-12-16T17:40:01.143Z"
   },
   {
    "duration": 9,
    "start_time": "2024-12-16T17:40:01.149Z"
   },
   {
    "duration": 11,
    "start_time": "2024-12-16T17:40:01.160Z"
   },
   {
    "duration": 6,
    "start_time": "2024-12-16T17:40:01.173Z"
   },
   {
    "duration": 163,
    "start_time": "2024-12-16T17:40:01.210Z"
   },
   {
    "duration": 7,
    "start_time": "2024-12-16T17:40:01.375Z"
   },
   {
    "duration": 7,
    "start_time": "2024-12-16T17:40:01.383Z"
   },
   {
    "duration": 8,
    "start_time": "2024-12-16T17:40:01.391Z"
   },
   {
    "duration": 11,
    "start_time": "2024-12-16T18:08:23.193Z"
   },
   {
    "duration": 15,
    "start_time": "2024-12-16T18:08:45.815Z"
   },
   {
    "duration": 239,
    "start_time": "2024-12-16T18:13:27.766Z"
   },
   {
    "duration": 20,
    "start_time": "2024-12-16T18:13:34.037Z"
   },
   {
    "duration": 21,
    "start_time": "2024-12-16T18:13:53.164Z"
   },
   {
    "duration": 22,
    "start_time": "2024-12-16T18:14:36.017Z"
   },
   {
    "duration": 22,
    "start_time": "2024-12-16T18:14:49.052Z"
   },
   {
    "duration": 22,
    "start_time": "2024-12-16T18:15:08.193Z"
   },
   {
    "duration": 21,
    "start_time": "2024-12-16T18:16:58.806Z"
   },
   {
    "duration": 21,
    "start_time": "2024-12-16T18:17:31.670Z"
   },
   {
    "duration": 163,
    "start_time": "2024-12-16T18:18:37.953Z"
   },
   {
    "duration": 156,
    "start_time": "2024-12-16T20:27:40.832Z"
   },
   {
    "duration": 2568,
    "start_time": "2024-12-16T20:27:47.484Z"
   },
   {
    "duration": 74,
    "start_time": "2024-12-16T20:27:50.055Z"
   },
   {
    "duration": 10,
    "start_time": "2024-12-16T20:27:50.132Z"
   },
   {
    "duration": 3,
    "start_time": "2024-12-16T20:27:50.144Z"
   },
   {
    "duration": 8,
    "start_time": "2024-12-16T20:27:50.150Z"
   },
   {
    "duration": 38,
    "start_time": "2024-12-16T20:27:50.159Z"
   },
   {
    "duration": 10,
    "start_time": "2024-12-16T20:27:50.213Z"
   },
   {
    "duration": 3,
    "start_time": "2024-12-16T20:27:50.225Z"
   },
   {
    "duration": 18,
    "start_time": "2024-12-16T20:27:50.229Z"
   },
   {
    "duration": 9,
    "start_time": "2024-12-16T20:27:50.248Z"
   },
   {
    "duration": 11,
    "start_time": "2024-12-16T20:27:50.259Z"
   },
   {
    "duration": 40,
    "start_time": "2024-12-16T20:27:50.272Z"
   },
   {
    "duration": 5,
    "start_time": "2024-12-16T20:27:50.314Z"
   },
   {
    "duration": 13,
    "start_time": "2024-12-16T20:27:50.323Z"
   },
   {
    "duration": 3,
    "start_time": "2024-12-16T20:27:50.338Z"
   },
   {
    "duration": 9,
    "start_time": "2024-12-16T20:27:50.342Z"
   },
   {
    "duration": 12,
    "start_time": "2024-12-16T20:27:50.353Z"
   },
   {
    "duration": 57,
    "start_time": "2024-12-16T20:27:50.366Z"
   },
   {
    "duration": 3,
    "start_time": "2024-12-16T20:27:50.425Z"
   },
   {
    "duration": 283,
    "start_time": "2024-12-16T20:27:50.430Z"
   },
   {
    "duration": 247,
    "start_time": "2024-12-16T20:27:50.714Z"
   },
   {
    "duration": 317,
    "start_time": "2024-12-16T20:27:50.962Z"
   },
   {
    "duration": 13,
    "start_time": "2024-12-16T20:27:51.281Z"
   },
   {
    "duration": 225,
    "start_time": "2024-12-16T20:27:51.296Z"
   },
   {
    "duration": 4,
    "start_time": "2024-12-16T20:27:51.524Z"
   },
   {
    "duration": 9,
    "start_time": "2024-12-16T20:27:51.530Z"
   },
   {
    "duration": 12,
    "start_time": "2024-12-16T20:27:51.540Z"
   },
   {
    "duration": 6,
    "start_time": "2024-12-16T20:27:51.554Z"
   },
   {
    "duration": 194,
    "start_time": "2024-12-16T20:27:51.562Z"
   },
   {
    "duration": 6,
    "start_time": "2024-12-16T20:27:51.758Z"
   },
   {
    "duration": 6,
    "start_time": "2024-12-16T20:27:51.765Z"
   },
   {
    "duration": 8,
    "start_time": "2024-12-16T20:27:51.773Z"
   },
   {
    "duration": 7,
    "start_time": "2024-12-16T20:36:26.749Z"
   },
   {
    "duration": 11,
    "start_time": "2024-12-16T20:36:54.738Z"
   },
   {
    "duration": 8,
    "start_time": "2024-12-16T20:37:03.095Z"
   },
   {
    "duration": 10,
    "start_time": "2024-12-16T20:38:36.858Z"
   },
   {
    "duration": 10,
    "start_time": "2024-12-16T20:38:44.254Z"
   },
   {
    "duration": 11,
    "start_time": "2024-12-16T20:38:46.286Z"
   },
   {
    "duration": 181,
    "start_time": "2024-12-16T20:39:24.762Z"
   },
   {
    "duration": 11,
    "start_time": "2024-12-16T20:40:35.713Z"
   },
   {
    "duration": 9,
    "start_time": "2024-12-16T20:40:45.067Z"
   },
   {
    "duration": 174,
    "start_time": "2024-12-16T20:40:51.564Z"
   },
   {
    "duration": 196,
    "start_time": "2024-12-16T20:41:03.428Z"
   },
   {
    "duration": 290,
    "start_time": "2024-12-16T20:49:27.217Z"
   },
   {
    "duration": 290,
    "start_time": "2024-12-16T20:49:36.616Z"
   },
   {
    "duration": 319,
    "start_time": "2024-12-16T20:49:41.680Z"
   },
   {
    "duration": 281,
    "start_time": "2024-12-16T20:49:45.253Z"
   },
   {
    "duration": 300,
    "start_time": "2024-12-16T20:49:55.345Z"
   },
   {
    "duration": 384,
    "start_time": "2024-12-16T20:53:44.207Z"
   },
   {
    "duration": 270,
    "start_time": "2024-12-16T20:57:03.344Z"
   },
   {
    "duration": 8,
    "start_time": "2024-12-16T20:57:29.799Z"
   },
   {
    "duration": 6,
    "start_time": "2024-12-16T20:58:29.927Z"
   },
   {
    "duration": 6,
    "start_time": "2024-12-16T21:00:11.682Z"
   },
   {
    "duration": 295,
    "start_time": "2024-12-16T21:01:07.356Z"
   },
   {
    "duration": 149,
    "start_time": "2024-12-16T21:02:22.692Z"
   },
   {
    "duration": 3,
    "start_time": "2024-12-16T21:02:41.430Z"
   },
   {
    "duration": 828,
    "start_time": "2024-12-16T21:02:46.473Z"
   },
   {
    "duration": 44,
    "start_time": "2024-12-16T21:02:47.304Z"
   },
   {
    "duration": 11,
    "start_time": "2024-12-16T21:02:47.349Z"
   },
   {
    "duration": 3,
    "start_time": "2024-12-16T21:02:47.363Z"
   },
   {
    "duration": 8,
    "start_time": "2024-12-16T21:02:47.369Z"
   },
   {
    "duration": 56,
    "start_time": "2024-12-16T21:02:47.379Z"
   },
   {
    "duration": 10,
    "start_time": "2024-12-16T21:02:47.436Z"
   },
   {
    "duration": 3,
    "start_time": "2024-12-16T21:02:47.448Z"
   },
   {
    "duration": 17,
    "start_time": "2024-12-16T21:02:47.453Z"
   },
   {
    "duration": 9,
    "start_time": "2024-12-16T21:02:47.471Z"
   },
   {
    "duration": 39,
    "start_time": "2024-12-16T21:02:47.482Z"
   },
   {
    "duration": 12,
    "start_time": "2024-12-16T21:02:47.523Z"
   },
   {
    "duration": 4,
    "start_time": "2024-12-16T21:02:47.536Z"
   },
   {
    "duration": 13,
    "start_time": "2024-12-16T21:02:47.544Z"
   },
   {
    "duration": 3,
    "start_time": "2024-12-16T21:02:47.559Z"
   },
   {
    "duration": 10,
    "start_time": "2024-12-16T21:02:47.563Z"
   },
   {
    "duration": 45,
    "start_time": "2024-12-16T21:02:47.574Z"
   },
   {
    "duration": 2,
    "start_time": "2024-12-16T21:02:47.621Z"
   },
   {
    "duration": 299,
    "start_time": "2024-12-16T21:02:47.625Z"
   },
   {
    "duration": 9,
    "start_time": "2024-12-16T21:02:47.926Z"
   },
   {
    "duration": 210,
    "start_time": "2024-12-16T21:02:47.936Z"
   },
   {
    "duration": 72,
    "start_time": "2024-12-16T21:02:48.148Z"
   },
   {
    "duration": 4,
    "start_time": "2024-12-16T21:02:48.221Z"
   },
   {
    "duration": 330,
    "start_time": "2024-12-16T21:02:48.227Z"
   },
   {
    "duration": 344,
    "start_time": "2024-12-16T21:02:48.558Z"
   },
   {
    "duration": 300,
    "start_time": "2024-12-16T21:02:48.912Z"
   },
   {
    "duration": 15,
    "start_time": "2024-12-16T21:02:49.213Z"
   },
   {
    "duration": 201,
    "start_time": "2024-12-16T21:02:49.229Z"
   },
   {
    "duration": 4,
    "start_time": "2024-12-16T21:02:49.432Z"
   },
   {
    "duration": 9,
    "start_time": "2024-12-16T21:02:49.438Z"
   },
   {
    "duration": 10,
    "start_time": "2024-12-16T21:02:49.448Z"
   },
   {
    "duration": 6,
    "start_time": "2024-12-16T21:02:49.460Z"
   },
   {
    "duration": 189,
    "start_time": "2024-12-16T21:02:49.467Z"
   },
   {
    "duration": 6,
    "start_time": "2024-12-16T21:02:49.657Z"
   },
   {
    "duration": 8,
    "start_time": "2024-12-16T21:02:49.665Z"
   },
   {
    "duration": 8,
    "start_time": "2024-12-16T21:02:49.674Z"
   },
   {
    "duration": 158,
    "start_time": "2024-12-16T21:05:50.563Z"
   },
   {
    "duration": 201,
    "start_time": "2024-12-16T21:06:44.218Z"
   },
   {
    "duration": 163,
    "start_time": "2024-12-16T21:06:55.694Z"
   },
   {
    "duration": 178,
    "start_time": "2024-12-16T21:10:31.344Z"
   },
   {
    "duration": 4,
    "start_time": "2024-12-16T21:14:50.115Z"
   },
   {
    "duration": 828,
    "start_time": "2024-12-16T21:16:16.799Z"
   },
   {
    "duration": 42,
    "start_time": "2024-12-16T21:16:17.629Z"
   },
   {
    "duration": 10,
    "start_time": "2024-12-16T21:16:17.673Z"
   },
   {
    "duration": 3,
    "start_time": "2024-12-16T21:16:17.685Z"
   },
   {
    "duration": 8,
    "start_time": "2024-12-16T21:16:17.711Z"
   },
   {
    "duration": 40,
    "start_time": "2024-12-16T21:16:17.721Z"
   },
   {
    "duration": 10,
    "start_time": "2024-12-16T21:16:17.763Z"
   },
   {
    "duration": 4,
    "start_time": "2024-12-16T21:16:17.774Z"
   },
   {
    "duration": 42,
    "start_time": "2024-12-16T21:16:17.780Z"
   },
   {
    "duration": 9,
    "start_time": "2024-12-16T21:16:17.824Z"
   },
   {
    "duration": 14,
    "start_time": "2024-12-16T21:16:17.835Z"
   },
   {
    "duration": 11,
    "start_time": "2024-12-16T21:16:17.851Z"
   },
   {
    "duration": 4,
    "start_time": "2024-12-16T21:16:17.864Z"
   },
   {
    "duration": 13,
    "start_time": "2024-12-16T21:16:17.872Z"
   },
   {
    "duration": 3,
    "start_time": "2024-12-16T21:16:17.912Z"
   },
   {
    "duration": 10,
    "start_time": "2024-12-16T21:16:17.916Z"
   },
   {
    "duration": 13,
    "start_time": "2024-12-16T21:16:17.928Z"
   },
   {
    "duration": 2,
    "start_time": "2024-12-16T21:16:17.943Z"
   },
   {
    "duration": 359,
    "start_time": "2024-12-16T21:16:17.946Z"
   },
   {
    "duration": 10,
    "start_time": "2024-12-16T21:16:18.313Z"
   },
   {
    "duration": 214,
    "start_time": "2024-12-16T21:16:18.325Z"
   },
   {
    "duration": 4,
    "start_time": "2024-12-16T21:16:18.541Z"
   },
   {
    "duration": 20,
    "start_time": "2024-12-16T21:16:18.547Z"
   },
   {
    "duration": 3,
    "start_time": "2024-12-16T21:16:18.569Z"
   },
   {
    "duration": 324,
    "start_time": "2024-12-16T21:16:18.574Z"
   },
   {
    "duration": 295,
    "start_time": "2024-12-16T21:16:18.900Z"
   },
   {
    "duration": 314,
    "start_time": "2024-12-16T21:16:19.197Z"
   },
   {
    "duration": 13,
    "start_time": "2024-12-16T21:16:19.513Z"
   },
   {
    "duration": 203,
    "start_time": "2024-12-16T21:16:19.528Z"
   },
   {
    "duration": 4,
    "start_time": "2024-12-16T21:16:19.733Z"
   },
   {
    "duration": 9,
    "start_time": "2024-12-16T21:16:19.739Z"
   },
   {
    "duration": 11,
    "start_time": "2024-12-16T21:16:19.749Z"
   },
   {
    "duration": 7,
    "start_time": "2024-12-16T21:16:19.761Z"
   },
   {
    "duration": 193,
    "start_time": "2024-12-16T21:16:19.769Z"
   },
   {
    "duration": 7,
    "start_time": "2024-12-16T21:16:19.964Z"
   },
   {
    "duration": 7,
    "start_time": "2024-12-16T21:16:19.973Z"
   },
   {
    "duration": 7,
    "start_time": "2024-12-16T21:16:19.982Z"
   },
   {
    "duration": 4,
    "start_time": "2024-12-16T21:16:44.047Z"
   },
   {
    "duration": 170,
    "start_time": "2024-12-16T21:16:51.470Z"
   },
   {
    "duration": 4,
    "start_time": "2024-12-16T21:17:02.342Z"
   },
   {
    "duration": 878,
    "start_time": "2024-12-16T21:32:00.738Z"
   },
   {
    "duration": 43,
    "start_time": "2024-12-16T21:32:01.618Z"
   },
   {
    "duration": 12,
    "start_time": "2024-12-16T21:32:01.663Z"
   },
   {
    "duration": 3,
    "start_time": "2024-12-16T21:32:01.677Z"
   },
   {
    "duration": 8,
    "start_time": "2024-12-16T21:32:01.682Z"
   },
   {
    "duration": 59,
    "start_time": "2024-12-16T21:32:01.691Z"
   },
   {
    "duration": 10,
    "start_time": "2024-12-16T21:32:01.751Z"
   },
   {
    "duration": 4,
    "start_time": "2024-12-16T21:32:01.762Z"
   },
   {
    "duration": 44,
    "start_time": "2024-12-16T21:32:01.768Z"
   },
   {
    "duration": 8,
    "start_time": "2024-12-16T21:32:01.815Z"
   },
   {
    "duration": 11,
    "start_time": "2024-12-16T21:32:01.825Z"
   },
   {
    "duration": 13,
    "start_time": "2024-12-16T21:32:01.837Z"
   },
   {
    "duration": 4,
    "start_time": "2024-12-16T21:32:01.851Z"
   },
   {
    "duration": 12,
    "start_time": "2024-12-16T21:32:01.857Z"
   },
   {
    "duration": 5,
    "start_time": "2024-12-16T21:32:01.871Z"
   },
   {
    "duration": 37,
    "start_time": "2024-12-16T21:32:01.878Z"
   },
   {
    "duration": 13,
    "start_time": "2024-12-16T21:32:01.916Z"
   },
   {
    "duration": 2,
    "start_time": "2024-12-16T21:32:01.931Z"
   },
   {
    "duration": 351,
    "start_time": "2024-12-16T21:32:01.935Z"
   },
   {
    "duration": 10,
    "start_time": "2024-12-16T21:32:02.288Z"
   },
   {
    "duration": 229,
    "start_time": "2024-12-16T21:32:02.299Z"
   },
   {
    "duration": 4,
    "start_time": "2024-12-16T21:32:02.529Z"
   },
   {
    "duration": 19,
    "start_time": "2024-12-16T21:32:02.535Z"
   },
   {
    "duration": 3,
    "start_time": "2024-12-16T21:32:02.556Z"
   },
   {
    "duration": 330,
    "start_time": "2024-12-16T21:32:02.560Z"
   },
   {
    "duration": 328,
    "start_time": "2024-12-16T21:32:02.892Z"
   },
   {
    "duration": 294,
    "start_time": "2024-12-16T21:32:03.222Z"
   },
   {
    "duration": 14,
    "start_time": "2024-12-16T21:32:03.521Z"
   },
   {
    "duration": 199,
    "start_time": "2024-12-16T21:32:03.536Z"
   },
   {
    "duration": 3,
    "start_time": "2024-12-16T21:32:03.737Z"
   },
   {
    "duration": 9,
    "start_time": "2024-12-16T21:32:03.742Z"
   },
   {
    "duration": 10,
    "start_time": "2024-12-16T21:32:03.753Z"
   },
   {
    "duration": 6,
    "start_time": "2024-12-16T21:32:03.764Z"
   },
   {
    "duration": 196,
    "start_time": "2024-12-16T21:32:03.772Z"
   },
   {
    "duration": 6,
    "start_time": "2024-12-16T21:32:03.970Z"
   },
   {
    "duration": 7,
    "start_time": "2024-12-16T21:32:03.977Z"
   },
   {
    "duration": 8,
    "start_time": "2024-12-16T21:32:03.985Z"
   },
   {
    "duration": 3,
    "start_time": "2024-12-16T21:32:37.119Z"
   },
   {
    "duration": 785,
    "start_time": "2024-12-16T22:01:29.684Z"
   },
   {
    "duration": 47,
    "start_time": "2024-12-16T22:01:30.472Z"
   },
   {
    "duration": 11,
    "start_time": "2024-12-16T22:01:30.520Z"
   },
   {
    "duration": 3,
    "start_time": "2024-12-16T22:01:30.533Z"
   },
   {
    "duration": 9,
    "start_time": "2024-12-16T22:01:30.539Z"
   },
   {
    "duration": 38,
    "start_time": "2024-12-16T22:01:30.549Z"
   },
   {
    "duration": 29,
    "start_time": "2024-12-16T22:01:30.589Z"
   },
   {
    "duration": 3,
    "start_time": "2024-12-16T22:01:30.620Z"
   },
   {
    "duration": 17,
    "start_time": "2024-12-16T22:01:30.625Z"
   },
   {
    "duration": 8,
    "start_time": "2024-12-16T22:01:30.644Z"
   },
   {
    "duration": 12,
    "start_time": "2024-12-16T22:01:30.654Z"
   },
   {
    "duration": 45,
    "start_time": "2024-12-16T22:01:30.667Z"
   },
   {
    "duration": 5,
    "start_time": "2024-12-16T22:01:30.714Z"
   },
   {
    "duration": 17,
    "start_time": "2024-12-16T22:01:30.723Z"
   },
   {
    "duration": 5,
    "start_time": "2024-12-16T22:01:30.742Z"
   },
   {
    "duration": 10,
    "start_time": "2024-12-16T22:01:30.748Z"
   },
   {
    "duration": 13,
    "start_time": "2024-12-16T22:01:30.760Z"
   },
   {
    "duration": 3,
    "start_time": "2024-12-16T22:01:30.774Z"
   },
   {
    "duration": 310,
    "start_time": "2024-12-16T22:01:30.813Z"
   },
   {
    "duration": 10,
    "start_time": "2024-12-16T22:01:31.124Z"
   },
   {
    "duration": 197,
    "start_time": "2024-12-16T22:01:31.135Z"
   },
   {
    "duration": 3,
    "start_time": "2024-12-16T22:01:31.334Z"
   },
   {
    "duration": 19,
    "start_time": "2024-12-16T22:01:31.339Z"
   },
   {
    "duration": 3,
    "start_time": "2024-12-16T22:01:31.359Z"
   },
   {
    "duration": 353,
    "start_time": "2024-12-16T22:01:31.364Z"
   },
   {
    "duration": 293,
    "start_time": "2024-12-16T22:01:31.720Z"
   },
   {
    "duration": 305,
    "start_time": "2024-12-16T22:01:32.015Z"
   },
   {
    "duration": 13,
    "start_time": "2024-12-16T22:01:32.322Z"
   },
   {
    "duration": 201,
    "start_time": "2024-12-16T22:01:32.337Z"
   },
   {
    "duration": 3,
    "start_time": "2024-12-16T22:01:32.540Z"
   },
   {
    "duration": 9,
    "start_time": "2024-12-16T22:01:32.545Z"
   },
   {
    "duration": 10,
    "start_time": "2024-12-16T22:01:32.555Z"
   },
   {
    "duration": 7,
    "start_time": "2024-12-16T22:01:32.566Z"
   },
   {
    "duration": 190,
    "start_time": "2024-12-16T22:01:32.574Z"
   },
   {
    "duration": 6,
    "start_time": "2024-12-16T22:01:32.766Z"
   },
   {
    "duration": 6,
    "start_time": "2024-12-16T22:01:32.774Z"
   },
   {
    "duration": 9,
    "start_time": "2024-12-16T22:01:32.781Z"
   },
   {
    "duration": 4,
    "start_time": "2024-12-16T22:03:18.416Z"
   },
   {
    "duration": 804,
    "start_time": "2024-12-16T22:03:51.928Z"
   },
   {
    "duration": 39,
    "start_time": "2024-12-16T22:03:52.734Z"
   },
   {
    "duration": 11,
    "start_time": "2024-12-16T22:03:52.775Z"
   },
   {
    "duration": 3,
    "start_time": "2024-12-16T22:03:52.788Z"
   },
   {
    "duration": 25,
    "start_time": "2024-12-16T22:03:52.793Z"
   },
   {
    "duration": 39,
    "start_time": "2024-12-16T22:03:52.819Z"
   },
   {
    "duration": 10,
    "start_time": "2024-12-16T22:03:52.859Z"
   },
   {
    "duration": 3,
    "start_time": "2024-12-16T22:03:52.870Z"
   },
   {
    "duration": 42,
    "start_time": "2024-12-16T22:03:52.876Z"
   },
   {
    "duration": 11,
    "start_time": "2024-12-16T22:03:52.920Z"
   },
   {
    "duration": 14,
    "start_time": "2024-12-16T22:03:52.933Z"
   },
   {
    "duration": 16,
    "start_time": "2024-12-16T22:03:52.949Z"
   },
   {
    "duration": 6,
    "start_time": "2024-12-16T22:03:52.966Z"
   },
   {
    "duration": 41,
    "start_time": "2024-12-16T22:03:52.973Z"
   },
   {
    "duration": 4,
    "start_time": "2024-12-16T22:03:53.015Z"
   },
   {
    "duration": 9,
    "start_time": "2024-12-16T22:03:53.022Z"
   },
   {
    "duration": 13,
    "start_time": "2024-12-16T22:03:53.032Z"
   },
   {
    "duration": 2,
    "start_time": "2024-12-16T22:03:53.047Z"
   },
   {
    "duration": 351,
    "start_time": "2024-12-16T22:03:53.051Z"
   },
   {
    "duration": 16,
    "start_time": "2024-12-16T22:03:53.404Z"
   },
   {
    "duration": 204,
    "start_time": "2024-12-16T22:03:53.421Z"
   },
   {
    "duration": 4,
    "start_time": "2024-12-16T22:03:53.627Z"
   },
   {
    "duration": 18,
    "start_time": "2024-12-16T22:03:53.633Z"
   },
   {
    "duration": 3,
    "start_time": "2024-12-16T22:03:53.653Z"
   },
   {
    "duration": 346,
    "start_time": "2024-12-16T22:03:53.658Z"
   },
   {
    "duration": 287,
    "start_time": "2024-12-16T22:03:54.011Z"
   },
   {
    "duration": 316,
    "start_time": "2024-12-16T22:03:54.300Z"
   },
   {
    "duration": 14,
    "start_time": "2024-12-16T22:03:54.620Z"
   },
   {
    "duration": 202,
    "start_time": "2024-12-16T22:03:54.635Z"
   },
   {
    "duration": 4,
    "start_time": "2024-12-16T22:03:54.839Z"
   },
   {
    "duration": 9,
    "start_time": "2024-12-16T22:03:54.845Z"
   },
   {
    "duration": 10,
    "start_time": "2024-12-16T22:03:54.855Z"
   },
   {
    "duration": 6,
    "start_time": "2024-12-16T22:03:54.867Z"
   },
   {
    "duration": 190,
    "start_time": "2024-12-16T22:03:54.875Z"
   },
   {
    "duration": 7,
    "start_time": "2024-12-16T22:03:55.067Z"
   },
   {
    "duration": 7,
    "start_time": "2024-12-16T22:03:55.076Z"
   },
   {
    "duration": 9,
    "start_time": "2024-12-16T22:03:55.084Z"
   },
   {
    "duration": 12,
    "start_time": "2024-12-16T22:13:25.727Z"
   },
   {
    "duration": 233,
    "start_time": "2024-12-16T22:15:46.035Z"
   },
   {
    "duration": 6,
    "start_time": "2024-12-16T22:16:36.126Z"
   },
   {
    "duration": 7,
    "start_time": "2024-12-16T22:16:45.730Z"
   },
   {
    "duration": 12,
    "start_time": "2024-12-16T22:17:01.361Z"
   },
   {
    "duration": 9,
    "start_time": "2024-12-16T22:17:29.851Z"
   },
   {
    "duration": 10,
    "start_time": "2024-12-16T22:17:34.714Z"
   },
   {
    "duration": 12,
    "start_time": "2024-12-16T22:26:55.457Z"
   },
   {
    "duration": 12,
    "start_time": "2024-12-16T22:27:12.955Z"
   },
   {
    "duration": 11,
    "start_time": "2024-12-16T22:27:57.205Z"
   },
   {
    "duration": 11,
    "start_time": "2024-12-16T22:28:24.874Z"
   },
   {
    "duration": 7,
    "start_time": "2024-12-16T22:28:34.075Z"
   },
   {
    "duration": 329,
    "start_time": "2024-12-16T22:29:48.094Z"
   },
   {
    "duration": 163,
    "start_time": "2024-12-16T22:29:57.382Z"
   },
   {
    "duration": 168,
    "start_time": "2024-12-16T22:30:32.655Z"
   },
   {
    "duration": 205,
    "start_time": "2024-12-16T22:30:42.108Z"
   },
   {
    "duration": 20,
    "start_time": "2024-12-16T22:31:05.127Z"
   },
   {
    "duration": 10,
    "start_time": "2024-12-16T22:31:08.707Z"
   },
   {
    "duration": 7,
    "start_time": "2024-12-16T22:31:52.407Z"
   },
   {
    "duration": 4,
    "start_time": "2024-12-16T22:32:08.540Z"
   },
   {
    "duration": 6,
    "start_time": "2024-12-16T22:32:10.070Z"
   },
   {
    "duration": 10,
    "start_time": "2024-12-16T22:32:26.872Z"
   },
   {
    "duration": 4,
    "start_time": "2024-12-16T22:32:30.370Z"
   },
   {
    "duration": 7,
    "start_time": "2024-12-16T22:32:33.788Z"
   },
   {
    "duration": 14,
    "start_time": "2024-12-16T22:33:28.503Z"
   },
   {
    "duration": 4,
    "start_time": "2024-12-16T22:33:32.980Z"
   },
   {
    "duration": 9,
    "start_time": "2024-12-16T22:33:35.678Z"
   },
   {
    "duration": 729,
    "start_time": "2024-12-16T22:33:59.051Z"
   },
   {
    "duration": 170,
    "start_time": "2024-12-16T22:34:33.579Z"
   },
   {
    "duration": 305,
    "start_time": "2024-12-16T22:36:16.607Z"
   },
   {
    "duration": 9,
    "start_time": "2024-12-16T22:36:30.976Z"
   },
   {
    "duration": 231,
    "start_time": "2024-12-16T22:38:07.142Z"
   },
   {
    "duration": 247,
    "start_time": "2024-12-16T22:38:47.679Z"
   },
   {
    "duration": 263,
    "start_time": "2024-12-16T22:39:26.228Z"
   },
   {
    "duration": 13,
    "start_time": "2024-12-16T22:41:05.732Z"
   },
   {
    "duration": 13,
    "start_time": "2024-12-16T22:41:12.115Z"
   },
   {
    "duration": 157,
    "start_time": "2024-12-16T22:46:52.075Z"
   },
   {
    "duration": 5,
    "start_time": "2024-12-16T22:47:25.992Z"
   },
   {
    "duration": 4,
    "start_time": "2024-12-16T22:49:14.567Z"
   },
   {
    "duration": 9,
    "start_time": "2024-12-16T22:50:54.419Z"
   },
   {
    "duration": 4,
    "start_time": "2024-12-16T22:56:14.456Z"
   },
   {
    "duration": 3,
    "start_time": "2024-12-16T22:57:10.783Z"
   },
   {
    "duration": 4,
    "start_time": "2024-12-16T23:04:58.022Z"
   },
   {
    "duration": 4,
    "start_time": "2024-12-16T23:06:06.277Z"
   },
   {
    "duration": 18,
    "start_time": "2024-12-16T23:14:31.528Z"
   },
   {
    "duration": 9,
    "start_time": "2024-12-16T23:14:41.049Z"
   },
   {
    "duration": 8,
    "start_time": "2024-12-16T23:16:33.306Z"
   },
   {
    "duration": 8,
    "start_time": "2024-12-16T23:17:09.508Z"
   },
   {
    "duration": 529,
    "start_time": "2024-12-16T23:18:58.546Z"
   },
   {
    "duration": 36,
    "start_time": "2024-12-16T23:19:04.858Z"
   },
   {
    "duration": 5,
    "start_time": "2024-12-16T23:19:37.371Z"
   },
   {
    "duration": 822,
    "start_time": "2024-12-16T23:19:44.004Z"
   },
   {
    "duration": 43,
    "start_time": "2024-12-16T23:19:44.828Z"
   },
   {
    "duration": 10,
    "start_time": "2024-12-16T23:19:44.873Z"
   },
   {
    "duration": 4,
    "start_time": "2024-12-16T23:19:44.884Z"
   },
   {
    "duration": 26,
    "start_time": "2024-12-16T23:19:44.890Z"
   },
   {
    "duration": 41,
    "start_time": "2024-12-16T23:19:44.917Z"
   },
   {
    "duration": 9,
    "start_time": "2024-12-16T23:19:44.960Z"
   },
   {
    "duration": 3,
    "start_time": "2024-12-16T23:19:44.971Z"
   },
   {
    "duration": 43,
    "start_time": "2024-12-16T23:19:44.976Z"
   },
   {
    "duration": 9,
    "start_time": "2024-12-16T23:19:45.023Z"
   },
   {
    "duration": 12,
    "start_time": "2024-12-16T23:19:45.033Z"
   },
   {
    "duration": 12,
    "start_time": "2024-12-16T23:19:45.047Z"
   },
   {
    "duration": 5,
    "start_time": "2024-12-16T23:19:45.061Z"
   },
   {
    "duration": 13,
    "start_time": "2024-12-16T23:19:45.069Z"
   },
   {
    "duration": 30,
    "start_time": "2024-12-16T23:19:45.084Z"
   },
   {
    "duration": 10,
    "start_time": "2024-12-16T23:19:45.116Z"
   },
   {
    "duration": 14,
    "start_time": "2024-12-16T23:19:45.128Z"
   },
   {
    "duration": 2,
    "start_time": "2024-12-16T23:19:45.144Z"
   },
   {
    "duration": 370,
    "start_time": "2024-12-16T23:19:45.148Z"
   },
   {
    "duration": 8,
    "start_time": "2024-12-16T23:19:45.522Z"
   },
   {
    "duration": 200,
    "start_time": "2024-12-16T23:19:45.532Z"
   },
   {
    "duration": 4,
    "start_time": "2024-12-16T23:19:45.733Z"
   },
   {
    "duration": 4,
    "start_time": "2024-12-16T23:19:45.738Z"
   },
   {
    "duration": 18,
    "start_time": "2024-12-16T23:19:45.745Z"
   },
   {
    "duration": 4,
    "start_time": "2024-12-16T23:19:45.764Z"
   },
   {
    "duration": 367,
    "start_time": "2024-12-16T23:19:45.769Z"
   },
   {
    "duration": 292,
    "start_time": "2024-12-16T23:19:46.138Z"
   },
   {
    "duration": 328,
    "start_time": "2024-12-16T23:19:46.432Z"
   },
   {
    "duration": 13,
    "start_time": "2024-12-16T23:19:46.762Z"
   },
   {
    "duration": 176,
    "start_time": "2024-12-16T23:19:46.777Z"
   },
   {
    "duration": 4,
    "start_time": "2024-12-16T23:19:46.954Z"
   },
   {
    "duration": 4,
    "start_time": "2024-12-16T23:19:46.960Z"
   },
   {
    "duration": 12,
    "start_time": "2024-12-16T23:19:47.011Z"
   },
   {
    "duration": 3,
    "start_time": "2024-12-16T23:19:47.025Z"
   },
   {
    "duration": 8,
    "start_time": "2024-12-16T23:19:47.030Z"
   },
   {
    "duration": 204,
    "start_time": "2024-12-16T23:19:47.041Z"
   },
   {
    "duration": 4,
    "start_time": "2024-12-16T23:19:47.246Z"
   },
   {
    "duration": 3,
    "start_time": "2024-12-16T23:19:47.252Z"
   },
   {
    "duration": 11,
    "start_time": "2024-12-16T23:19:47.257Z"
   },
   {
    "duration": 7,
    "start_time": "2024-12-16T23:19:47.270Z"
   },
   {
    "duration": 255,
    "start_time": "2024-12-16T23:19:47.282Z"
   },
   {
    "duration": 0,
    "start_time": "2024-12-16T23:19:47.539Z"
   },
   {
    "duration": 0,
    "start_time": "2024-12-16T23:19:47.540Z"
   },
   {
    "duration": 0,
    "start_time": "2024-12-16T23:19:47.541Z"
   },
   {
    "duration": 0,
    "start_time": "2024-12-16T23:19:47.542Z"
   },
   {
    "duration": 0,
    "start_time": "2024-12-16T23:19:47.543Z"
   },
   {
    "duration": 14,
    "start_time": "2024-12-16T23:20:14.122Z"
   },
   {
    "duration": 13,
    "start_time": "2024-12-16T23:20:53.220Z"
   },
   {
    "duration": 13,
    "start_time": "2024-12-16T23:22:17.176Z"
   },
   {
    "duration": 14,
    "start_time": "2024-12-16T23:22:32.712Z"
   },
   {
    "duration": 15,
    "start_time": "2024-12-16T23:22:38.194Z"
   },
   {
    "duration": 4,
    "start_time": "2024-12-16T23:25:30.516Z"
   },
   {
    "duration": 4,
    "start_time": "2024-12-16T23:25:48.227Z"
   },
   {
    "duration": 12,
    "start_time": "2024-12-16T23:25:51.366Z"
   },
   {
    "duration": 14,
    "start_time": "2024-12-16T23:25:58.158Z"
   },
   {
    "duration": 15,
    "start_time": "2024-12-16T23:26:14.839Z"
   },
   {
    "duration": 15,
    "start_time": "2024-12-16T23:26:22.870Z"
   },
   {
    "duration": 12,
    "start_time": "2024-12-16T23:28:29.581Z"
   },
   {
    "duration": 12,
    "start_time": "2024-12-16T23:29:02.449Z"
   },
   {
    "duration": 4,
    "start_time": "2024-12-16T23:29:19.713Z"
   },
   {
    "duration": 3,
    "start_time": "2024-12-16T23:29:31.497Z"
   },
   {
    "duration": 14,
    "start_time": "2024-12-16T23:31:29.381Z"
   },
   {
    "duration": 12,
    "start_time": "2024-12-16T23:32:05.514Z"
   },
   {
    "duration": 14,
    "start_time": "2024-12-16T23:32:16.084Z"
   },
   {
    "duration": 8,
    "start_time": "2024-12-16T23:32:23.212Z"
   },
   {
    "duration": 2726,
    "start_time": "2024-12-17T15:12:47.959Z"
   },
   {
    "duration": 69,
    "start_time": "2024-12-17T15:12:50.687Z"
   },
   {
    "duration": 12,
    "start_time": "2024-12-17T15:12:50.758Z"
   },
   {
    "duration": 3,
    "start_time": "2024-12-17T15:12:50.772Z"
   },
   {
    "duration": 8,
    "start_time": "2024-12-17T15:12:50.777Z"
   },
   {
    "duration": 54,
    "start_time": "2024-12-17T15:12:50.787Z"
   },
   {
    "duration": 9,
    "start_time": "2024-12-17T15:12:50.843Z"
   },
   {
    "duration": 4,
    "start_time": "2024-12-17T15:12:50.854Z"
   },
   {
    "duration": 18,
    "start_time": "2024-12-17T15:12:50.859Z"
   },
   {
    "duration": 10,
    "start_time": "2024-12-17T15:12:50.879Z"
   },
   {
    "duration": 41,
    "start_time": "2024-12-17T15:12:50.890Z"
   },
   {
    "duration": 13,
    "start_time": "2024-12-17T15:12:50.933Z"
   },
   {
    "duration": 4,
    "start_time": "2024-12-17T15:12:50.948Z"
   },
   {
    "duration": 13,
    "start_time": "2024-12-17T15:12:50.957Z"
   },
   {
    "duration": 3,
    "start_time": "2024-12-17T15:12:50.972Z"
   },
   {
    "duration": 13,
    "start_time": "2024-12-17T15:12:50.977Z"
   },
   {
    "duration": 43,
    "start_time": "2024-12-17T15:12:50.992Z"
   },
   {
    "duration": 2,
    "start_time": "2024-12-17T15:12:51.037Z"
   },
   {
    "duration": 321,
    "start_time": "2024-12-17T15:12:51.041Z"
   },
   {
    "duration": 9,
    "start_time": "2024-12-17T15:12:51.364Z"
   },
   {
    "duration": 177,
    "start_time": "2024-12-17T15:12:51.375Z"
   },
   {
    "duration": 4,
    "start_time": "2024-12-17T15:12:51.554Z"
   },
   {
    "duration": 3,
    "start_time": "2024-12-17T15:12:51.560Z"
   },
   {
    "duration": 25,
    "start_time": "2024-12-17T15:12:51.564Z"
   },
   {
    "duration": 4,
    "start_time": "2024-12-17T15:12:51.591Z"
   },
   {
    "duration": 335,
    "start_time": "2024-12-17T15:12:51.596Z"
   },
   {
    "duration": 388,
    "start_time": "2024-12-17T15:12:51.933Z"
   },
   {
    "duration": 335,
    "start_time": "2024-12-17T15:12:52.322Z"
   },
   {
    "duration": 14,
    "start_time": "2024-12-17T15:12:52.658Z"
   },
   {
    "duration": 188,
    "start_time": "2024-12-17T15:12:52.674Z"
   },
   {
    "duration": 4,
    "start_time": "2024-12-17T15:12:52.864Z"
   },
   {
    "duration": 4,
    "start_time": "2024-12-17T15:12:52.870Z"
   },
   {
    "duration": 13,
    "start_time": "2024-12-17T15:12:52.877Z"
   },
   {
    "duration": 4,
    "start_time": "2024-12-17T15:12:52.892Z"
   },
   {
    "duration": 38,
    "start_time": "2024-12-17T15:12:52.898Z"
   },
   {
    "duration": 216,
    "start_time": "2024-12-17T15:12:52.937Z"
   },
   {
    "duration": 4,
    "start_time": "2024-12-17T15:12:53.155Z"
   },
   {
    "duration": 3,
    "start_time": "2024-12-17T15:12:53.161Z"
   },
   {
    "duration": 12,
    "start_time": "2024-12-17T15:12:53.166Z"
   },
   {
    "duration": 8,
    "start_time": "2024-12-17T15:12:53.180Z"
   },
   {
    "duration": 5,
    "start_time": "2024-12-17T15:12:53.192Z"
   },
   {
    "duration": 168,
    "start_time": "2024-12-17T15:12:53.232Z"
   },
   {
    "duration": 6,
    "start_time": "2024-12-17T15:12:53.401Z"
   },
   {
    "duration": 8,
    "start_time": "2024-12-17T15:12:53.409Z"
   },
   {
    "duration": 8,
    "start_time": "2024-12-17T15:12:53.418Z"
   },
   {
    "duration": 163,
    "start_time": "2024-12-17T15:14:38.978Z"
   },
   {
    "duration": 190,
    "start_time": "2024-12-17T15:15:46.146Z"
   },
   {
    "duration": 2961,
    "start_time": "2024-12-17T17:01:29.101Z"
   },
   {
    "duration": 68,
    "start_time": "2024-12-17T17:01:32.064Z"
   },
   {
    "duration": 11,
    "start_time": "2024-12-17T17:01:32.134Z"
   },
   {
    "duration": 4,
    "start_time": "2024-12-17T17:01:32.148Z"
   },
   {
    "duration": 9,
    "start_time": "2024-12-17T17:01:32.154Z"
   },
   {
    "duration": 51,
    "start_time": "2024-12-17T17:01:32.165Z"
   },
   {
    "duration": 10,
    "start_time": "2024-12-17T17:01:32.218Z"
   },
   {
    "duration": 4,
    "start_time": "2024-12-17T17:01:32.230Z"
   },
   {
    "duration": 18,
    "start_time": "2024-12-17T17:01:32.237Z"
   },
   {
    "duration": 36,
    "start_time": "2024-12-17T17:01:32.259Z"
   },
   {
    "duration": 15,
    "start_time": "2024-12-17T17:01:32.298Z"
   },
   {
    "duration": 16,
    "start_time": "2024-12-17T17:01:32.315Z"
   },
   {
    "duration": 6,
    "start_time": "2024-12-17T17:01:32.332Z"
   },
   {
    "duration": 20,
    "start_time": "2024-12-17T17:01:32.340Z"
   },
   {
    "duration": 28,
    "start_time": "2024-12-17T17:01:32.361Z"
   },
   {
    "duration": 10,
    "start_time": "2024-12-17T17:01:32.390Z"
   },
   {
    "duration": 14,
    "start_time": "2024-12-17T17:01:32.402Z"
   },
   {
    "duration": 3,
    "start_time": "2024-12-17T17:01:32.417Z"
   },
   {
    "duration": 385,
    "start_time": "2024-12-17T17:01:32.421Z"
   },
   {
    "duration": 9,
    "start_time": "2024-12-17T17:01:32.808Z"
   },
   {
    "duration": 190,
    "start_time": "2024-12-17T17:01:32.819Z"
   },
   {
    "duration": 4,
    "start_time": "2024-12-17T17:01:33.012Z"
   },
   {
    "duration": 3,
    "start_time": "2024-12-17T17:01:33.018Z"
   },
   {
    "duration": 23,
    "start_time": "2024-12-17T17:01:33.023Z"
   },
   {
    "duration": 3,
    "start_time": "2024-12-17T17:01:33.048Z"
   },
   {
    "duration": 357,
    "start_time": "2024-12-17T17:01:33.053Z"
   },
   {
    "duration": 417,
    "start_time": "2024-12-17T17:01:33.412Z"
   },
   {
    "duration": 377,
    "start_time": "2024-12-17T17:01:33.834Z"
   },
   {
    "duration": 15,
    "start_time": "2024-12-17T17:01:34.213Z"
   },
   {
    "duration": 176,
    "start_time": "2024-12-17T17:01:34.230Z"
   },
   {
    "duration": 4,
    "start_time": "2024-12-17T17:01:34.408Z"
   },
   {
    "duration": 3,
    "start_time": "2024-12-17T17:01:34.414Z"
   },
   {
    "duration": 13,
    "start_time": "2024-12-17T17:01:34.419Z"
   },
   {
    "duration": 4,
    "start_time": "2024-12-17T17:01:34.433Z"
   },
   {
    "duration": 8,
    "start_time": "2024-12-17T17:01:34.439Z"
   },
   {
    "duration": 241,
    "start_time": "2024-12-17T17:01:34.448Z"
   },
   {
    "duration": 4,
    "start_time": "2024-12-17T17:01:34.691Z"
   },
   {
    "duration": 4,
    "start_time": "2024-12-17T17:01:34.697Z"
   },
   {
    "duration": 11,
    "start_time": "2024-12-17T17:01:34.703Z"
   },
   {
    "duration": 7,
    "start_time": "2024-12-17T17:01:34.716Z"
   },
   {
    "duration": 6,
    "start_time": "2024-12-17T17:01:34.725Z"
   },
   {
    "duration": 210,
    "start_time": "2024-12-17T17:01:34.733Z"
   },
   {
    "duration": 6,
    "start_time": "2024-12-17T17:01:34.944Z"
   },
   {
    "duration": 256,
    "start_time": "2024-12-17T17:01:34.952Z"
   },
   {
    "duration": 7,
    "start_time": "2024-12-17T17:01:35.210Z"
   },
   {
    "duration": 12,
    "start_time": "2024-12-17T17:01:35.219Z"
   },
   {
    "duration": 17,
    "start_time": "2024-12-17T17:48:35.711Z"
   },
   {
    "duration": 321,
    "start_time": "2024-12-17T17:51:00.050Z"
   },
   {
    "duration": 220,
    "start_time": "2024-12-17T17:54:28.975Z"
   },
   {
    "duration": 553,
    "start_time": "2024-12-17T17:54:43.521Z"
   },
   {
    "duration": 127,
    "start_time": "2024-12-17T17:56:03.723Z"
   },
   {
    "duration": 129,
    "start_time": "2024-12-17T17:56:07.873Z"
   },
   {
    "duration": 2617,
    "start_time": "2024-12-17T19:39:45.473Z"
   },
   {
    "duration": 65,
    "start_time": "2024-12-17T19:39:48.092Z"
   },
   {
    "duration": 12,
    "start_time": "2024-12-17T19:39:48.159Z"
   },
   {
    "duration": 3,
    "start_time": "2024-12-17T19:39:48.174Z"
   },
   {
    "duration": 9,
    "start_time": "2024-12-17T19:39:48.180Z"
   },
   {
    "duration": 38,
    "start_time": "2024-12-17T19:39:48.190Z"
   },
   {
    "duration": 40,
    "start_time": "2024-12-17T19:39:48.230Z"
   },
   {
    "duration": 4,
    "start_time": "2024-12-17T19:39:48.272Z"
   },
   {
    "duration": 22,
    "start_time": "2024-12-17T19:39:48.278Z"
   },
   {
    "duration": 9,
    "start_time": "2024-12-17T19:39:48.302Z"
   },
   {
    "duration": 14,
    "start_time": "2024-12-17T19:39:48.313Z"
   },
   {
    "duration": 42,
    "start_time": "2024-12-17T19:39:48.329Z"
   },
   {
    "duration": 5,
    "start_time": "2024-12-17T19:39:48.373Z"
   },
   {
    "duration": 13,
    "start_time": "2024-12-17T19:39:48.381Z"
   },
   {
    "duration": 3,
    "start_time": "2024-12-17T19:39:48.396Z"
   },
   {
    "duration": 10,
    "start_time": "2024-12-17T19:39:48.401Z"
   },
   {
    "duration": 12,
    "start_time": "2024-12-17T19:39:48.412Z"
   },
   {
    "duration": 3,
    "start_time": "2024-12-17T19:39:48.426Z"
   },
   {
    "duration": 318,
    "start_time": "2024-12-17T19:39:48.470Z"
   },
   {
    "duration": 9,
    "start_time": "2024-12-17T19:39:48.790Z"
   },
   {
    "duration": 194,
    "start_time": "2024-12-17T19:39:48.801Z"
   },
   {
    "duration": 4,
    "start_time": "2024-12-17T19:39:48.997Z"
   },
   {
    "duration": 2,
    "start_time": "2024-12-17T19:39:49.003Z"
   },
   {
    "duration": 19,
    "start_time": "2024-12-17T19:39:49.007Z"
   },
   {
    "duration": 3,
    "start_time": "2024-12-17T19:39:49.028Z"
   },
   {
    "duration": 346,
    "start_time": "2024-12-17T19:39:49.033Z"
   },
   {
    "duration": 294,
    "start_time": "2024-12-17T19:39:49.381Z"
   },
   {
    "duration": 305,
    "start_time": "2024-12-17T19:39:49.677Z"
   },
   {
    "duration": 13,
    "start_time": "2024-12-17T19:39:49.984Z"
   },
   {
    "duration": 277,
    "start_time": "2024-12-17T19:39:49.998Z"
   },
   {
    "duration": 4,
    "start_time": "2024-12-17T19:39:50.277Z"
   },
   {
    "duration": 3,
    "start_time": "2024-12-17T19:39:50.283Z"
   },
   {
    "duration": 13,
    "start_time": "2024-12-17T19:39:50.288Z"
   },
   {
    "duration": 3,
    "start_time": "2024-12-17T19:39:50.302Z"
   },
   {
    "duration": 9,
    "start_time": "2024-12-17T19:39:50.307Z"
   },
   {
    "duration": 195,
    "start_time": "2024-12-17T19:39:50.317Z"
   },
   {
    "duration": 3,
    "start_time": "2024-12-17T19:39:50.571Z"
   },
   {
    "duration": 4,
    "start_time": "2024-12-17T19:39:50.576Z"
   },
   {
    "duration": 12,
    "start_time": "2024-12-17T19:39:50.581Z"
   },
   {
    "duration": 8,
    "start_time": "2024-12-17T19:39:50.595Z"
   },
   {
    "duration": 5,
    "start_time": "2024-12-17T19:39:50.608Z"
   },
   {
    "duration": 208,
    "start_time": "2024-12-17T19:39:50.615Z"
   },
   {
    "duration": 7,
    "start_time": "2024-12-17T19:39:50.824Z"
   },
   {
    "duration": 166,
    "start_time": "2024-12-17T19:39:50.833Z"
   },
   {
    "duration": 7,
    "start_time": "2024-12-17T19:39:51.000Z"
   },
   {
    "duration": 18,
    "start_time": "2024-12-17T19:39:51.009Z"
   },
   {
    "duration": 799,
    "start_time": "2024-12-17T19:39:51.029Z"
   },
   {
    "duration": 0,
    "start_time": "2024-12-17T19:39:51.830Z"
   },
   {
    "duration": 122,
    "start_time": "2024-12-17T20:22:12.945Z"
   },
   {
    "duration": 126,
    "start_time": "2024-12-17T20:23:09.863Z"
   },
   {
    "duration": 302,
    "start_time": "2024-12-17T20:24:44.498Z"
   },
   {
    "duration": 226,
    "start_time": "2024-12-17T20:28:57.864Z"
   },
   {
    "duration": 13,
    "start_time": "2024-12-17T21:01:05.342Z"
   },
   {
    "duration": 805,
    "start_time": "2024-12-17T21:02:09.407Z"
   },
   {
    "duration": 40,
    "start_time": "2024-12-17T21:02:10.214Z"
   },
   {
    "duration": 19,
    "start_time": "2024-12-17T21:02:10.256Z"
   },
   {
    "duration": 3,
    "start_time": "2024-12-17T21:02:10.277Z"
   },
   {
    "duration": 9,
    "start_time": "2024-12-17T21:02:10.282Z"
   },
   {
    "duration": 38,
    "start_time": "2024-12-17T21:02:10.292Z"
   },
   {
    "duration": 38,
    "start_time": "2024-12-17T21:02:10.332Z"
   },
   {
    "duration": 4,
    "start_time": "2024-12-17T21:02:10.371Z"
   },
   {
    "duration": 17,
    "start_time": "2024-12-17T21:02:10.376Z"
   },
   {
    "duration": 9,
    "start_time": "2024-12-17T21:02:10.396Z"
   },
   {
    "duration": 12,
    "start_time": "2024-12-17T21:02:10.407Z"
   },
   {
    "duration": 12,
    "start_time": "2024-12-17T21:02:10.420Z"
   },
   {
    "duration": 5,
    "start_time": "2024-12-17T21:02:10.435Z"
   },
   {
    "duration": 14,
    "start_time": "2024-12-17T21:02:10.471Z"
   },
   {
    "duration": 3,
    "start_time": "2024-12-17T21:02:10.487Z"
   },
   {
    "duration": 9,
    "start_time": "2024-12-17T21:02:10.492Z"
   },
   {
    "duration": 13,
    "start_time": "2024-12-17T21:02:10.502Z"
   },
   {
    "duration": 2,
    "start_time": "2024-12-17T21:02:10.517Z"
   },
   {
    "duration": 349,
    "start_time": "2024-12-17T21:02:10.521Z"
   },
   {
    "duration": 9,
    "start_time": "2024-12-17T21:02:10.872Z"
   },
   {
    "duration": 218,
    "start_time": "2024-12-17T21:02:10.883Z"
   },
   {
    "duration": 3,
    "start_time": "2024-12-17T21:02:11.103Z"
   },
   {
    "duration": 3,
    "start_time": "2024-12-17T21:02:11.108Z"
   },
   {
    "duration": 18,
    "start_time": "2024-12-17T21:02:11.113Z"
   },
   {
    "duration": 3,
    "start_time": "2024-12-17T21:02:11.133Z"
   },
   {
    "duration": 378,
    "start_time": "2024-12-17T21:02:11.138Z"
   },
   {
    "duration": 319,
    "start_time": "2024-12-17T21:02:11.518Z"
   },
   {
    "duration": 319,
    "start_time": "2024-12-17T21:02:11.841Z"
   },
   {
    "duration": 18,
    "start_time": "2024-12-17T21:02:12.162Z"
   },
   {
    "duration": 212,
    "start_time": "2024-12-17T21:02:12.181Z"
   },
   {
    "duration": 3,
    "start_time": "2024-12-17T21:02:12.395Z"
   },
   {
    "duration": 4,
    "start_time": "2024-12-17T21:02:12.400Z"
   },
   {
    "duration": 12,
    "start_time": "2024-12-17T21:02:12.406Z"
   },
   {
    "duration": 4,
    "start_time": "2024-12-17T21:02:12.420Z"
   },
   {
    "duration": 9,
    "start_time": "2024-12-17T21:02:12.425Z"
   },
   {
    "duration": 207,
    "start_time": "2024-12-17T21:02:12.469Z"
   },
   {
    "duration": 4,
    "start_time": "2024-12-17T21:02:12.678Z"
   },
   {
    "duration": 3,
    "start_time": "2024-12-17T21:02:12.683Z"
   },
   {
    "duration": 11,
    "start_time": "2024-12-17T21:02:12.688Z"
   },
   {
    "duration": 8,
    "start_time": "2024-12-17T21:02:12.701Z"
   },
   {
    "duration": 7,
    "start_time": "2024-12-17T21:02:12.711Z"
   },
   {
    "duration": 193,
    "start_time": "2024-12-17T21:02:12.721Z"
   },
   {
    "duration": 7,
    "start_time": "2024-12-17T21:02:12.916Z"
   },
   {
    "duration": 167,
    "start_time": "2024-12-17T21:02:12.924Z"
   },
   {
    "duration": 6,
    "start_time": "2024-12-17T21:02:13.093Z"
   },
   {
    "duration": 21,
    "start_time": "2024-12-17T21:02:13.100Z"
   },
   {
    "duration": 199,
    "start_time": "2024-12-17T21:02:13.123Z"
   },
   {
    "duration": 6,
    "start_time": "2024-12-17T21:02:13.371Z"
   },
   {
    "duration": 17,
    "start_time": "2024-12-17T21:05:08.147Z"
   },
   {
    "duration": 282,
    "start_time": "2024-12-17T21:24:35.818Z"
   },
   {
    "duration": 583,
    "start_time": "2024-12-17T21:24:44.659Z"
   },
   {
    "duration": 583,
    "start_time": "2024-12-17T21:26:02.972Z"
   },
   {
    "duration": 8,
    "start_time": "2024-12-17T22:30:30.575Z"
   },
   {
    "duration": 2569,
    "start_time": "2024-12-17T23:33:45.885Z"
   },
   {
    "duration": 64,
    "start_time": "2024-12-17T23:33:48.456Z"
   },
   {
    "duration": 11,
    "start_time": "2024-12-17T23:33:48.521Z"
   },
   {
    "duration": 3,
    "start_time": "2024-12-17T23:33:48.534Z"
   },
   {
    "duration": 9,
    "start_time": "2024-12-17T23:33:48.539Z"
   },
   {
    "duration": 39,
    "start_time": "2024-12-17T23:33:48.549Z"
   },
   {
    "duration": 9,
    "start_time": "2024-12-17T23:33:48.589Z"
   },
   {
    "duration": 4,
    "start_time": "2024-12-17T23:33:48.624Z"
   },
   {
    "duration": 17,
    "start_time": "2024-12-17T23:33:48.630Z"
   },
   {
    "duration": 9,
    "start_time": "2024-12-17T23:33:48.650Z"
   },
   {
    "duration": 12,
    "start_time": "2024-12-17T23:33:48.661Z"
   },
   {
    "duration": 13,
    "start_time": "2024-12-17T23:33:48.674Z"
   },
   {
    "duration": 5,
    "start_time": "2024-12-17T23:33:48.688Z"
   },
   {
    "duration": 14,
    "start_time": "2024-12-17T23:33:48.724Z"
   },
   {
    "duration": 3,
    "start_time": "2024-12-17T23:33:48.740Z"
   },
   {
    "duration": 10,
    "start_time": "2024-12-17T23:33:48.744Z"
   },
   {
    "duration": 13,
    "start_time": "2024-12-17T23:33:48.756Z"
   },
   {
    "duration": 3,
    "start_time": "2024-12-17T23:33:48.770Z"
   },
   {
    "duration": 368,
    "start_time": "2024-12-17T23:33:48.775Z"
   },
   {
    "duration": 10,
    "start_time": "2024-12-17T23:33:49.145Z"
   },
   {
    "duration": 191,
    "start_time": "2024-12-17T23:33:49.157Z"
   },
   {
    "duration": 4,
    "start_time": "2024-12-17T23:33:49.350Z"
   },
   {
    "duration": 3,
    "start_time": "2024-12-17T23:33:49.355Z"
   },
   {
    "duration": 19,
    "start_time": "2024-12-17T23:33:49.360Z"
   },
   {
    "duration": 3,
    "start_time": "2024-12-17T23:33:49.380Z"
   },
   {
    "duration": 326,
    "start_time": "2024-12-17T23:33:49.385Z"
   },
   {
    "duration": 314,
    "start_time": "2024-12-17T23:33:49.712Z"
   },
   {
    "duration": 305,
    "start_time": "2024-12-17T23:33:50.031Z"
   },
   {
    "duration": 14,
    "start_time": "2024-12-17T23:33:50.338Z"
   },
   {
    "duration": 273,
    "start_time": "2024-12-17T23:33:50.354Z"
   },
   {
    "duration": 4,
    "start_time": "2024-12-17T23:33:50.629Z"
   },
   {
    "duration": 4,
    "start_time": "2024-12-17T23:33:50.635Z"
   },
   {
    "duration": 13,
    "start_time": "2024-12-17T23:33:50.640Z"
   },
   {
    "duration": 4,
    "start_time": "2024-12-17T23:33:50.655Z"
   },
   {
    "duration": 9,
    "start_time": "2024-12-17T23:33:50.660Z"
   },
   {
    "duration": 193,
    "start_time": "2024-12-17T23:33:50.670Z"
   },
   {
    "duration": 4,
    "start_time": "2024-12-17T23:33:50.865Z"
   },
   {
    "duration": 4,
    "start_time": "2024-12-17T23:33:50.870Z"
   },
   {
    "duration": 55,
    "start_time": "2024-12-17T23:33:50.875Z"
   },
   {
    "duration": 9,
    "start_time": "2024-12-17T23:33:50.932Z"
   },
   {
    "duration": 7,
    "start_time": "2024-12-17T23:33:50.942Z"
   },
   {
    "duration": 195,
    "start_time": "2024-12-17T23:33:50.950Z"
   },
   {
    "duration": 7,
    "start_time": "2024-12-17T23:33:51.146Z"
   },
   {
    "duration": 183,
    "start_time": "2024-12-17T23:33:51.156Z"
   },
   {
    "duration": 7,
    "start_time": "2024-12-17T23:33:51.341Z"
   },
   {
    "duration": 21,
    "start_time": "2024-12-17T23:33:51.349Z"
   },
   {
    "duration": 194,
    "start_time": "2024-12-17T23:33:51.371Z"
   },
   {
    "duration": 7,
    "start_time": "2024-12-17T23:33:51.567Z"
   },
   {
    "duration": 53,
    "start_time": "2024-12-17T23:33:51.576Z"
   },
   {
    "duration": 683,
    "start_time": "2024-12-17T23:33:51.631Z"
   },
   {
    "duration": 2526,
    "start_time": "2024-12-18T03:08:19.114Z"
   },
   {
    "duration": 64,
    "start_time": "2024-12-18T03:08:21.643Z"
   },
   {
    "duration": 13,
    "start_time": "2024-12-18T03:08:21.709Z"
   },
   {
    "duration": 3,
    "start_time": "2024-12-18T03:08:21.724Z"
   },
   {
    "duration": 8,
    "start_time": "2024-12-18T03:08:21.729Z"
   },
   {
    "duration": 51,
    "start_time": "2024-12-18T03:08:21.739Z"
   },
   {
    "duration": 9,
    "start_time": "2024-12-18T03:08:21.792Z"
   },
   {
    "duration": 5,
    "start_time": "2024-12-18T03:08:21.802Z"
   },
   {
    "duration": 16,
    "start_time": "2024-12-18T03:08:21.809Z"
   },
   {
    "duration": 9,
    "start_time": "2024-12-18T03:08:21.828Z"
   },
   {
    "duration": 37,
    "start_time": "2024-12-18T03:08:21.838Z"
   },
   {
    "duration": 12,
    "start_time": "2024-12-18T03:08:21.877Z"
   },
   {
    "duration": 5,
    "start_time": "2024-12-18T03:08:21.891Z"
   },
   {
    "duration": 12,
    "start_time": "2024-12-18T03:08:21.898Z"
   },
   {
    "duration": 2,
    "start_time": "2024-12-18T03:08:21.913Z"
   },
   {
    "duration": 9,
    "start_time": "2024-12-18T03:08:21.917Z"
   },
   {
    "duration": 50,
    "start_time": "2024-12-18T03:08:21.928Z"
   },
   {
    "duration": 3,
    "start_time": "2024-12-18T03:08:21.980Z"
   },
   {
    "duration": 310,
    "start_time": "2024-12-18T03:08:21.985Z"
   },
   {
    "duration": 9,
    "start_time": "2024-12-18T03:08:22.297Z"
   },
   {
    "duration": 185,
    "start_time": "2024-12-18T03:08:22.308Z"
   },
   {
    "duration": 3,
    "start_time": "2024-12-18T03:08:22.495Z"
   },
   {
    "duration": 3,
    "start_time": "2024-12-18T03:08:22.500Z"
   },
   {
    "duration": 18,
    "start_time": "2024-12-18T03:08:22.505Z"
   },
   {
    "duration": 3,
    "start_time": "2024-12-18T03:08:22.525Z"
   },
   {
    "duration": 347,
    "start_time": "2024-12-18T03:08:22.531Z"
   },
   {
    "duration": 292,
    "start_time": "2024-12-18T03:08:22.879Z"
   },
   {
    "duration": 305,
    "start_time": "2024-12-18T03:08:23.174Z"
   },
   {
    "duration": 14,
    "start_time": "2024-12-18T03:08:23.481Z"
   },
   {
    "duration": 282,
    "start_time": "2024-12-18T03:08:23.496Z"
   },
   {
    "duration": 3,
    "start_time": "2024-12-18T03:08:23.780Z"
   },
   {
    "duration": 4,
    "start_time": "2024-12-18T03:08:23.785Z"
   },
   {
    "duration": 13,
    "start_time": "2024-12-18T03:08:23.790Z"
   },
   {
    "duration": 4,
    "start_time": "2024-12-18T03:08:23.804Z"
   },
   {
    "duration": 9,
    "start_time": "2024-12-18T03:08:23.809Z"
   },
   {
    "duration": 196,
    "start_time": "2024-12-18T03:08:23.820Z"
   },
   {
    "duration": 55,
    "start_time": "2024-12-18T03:08:24.018Z"
   },
   {
    "duration": 4,
    "start_time": "2024-12-18T03:08:24.074Z"
   },
   {
    "duration": 14,
    "start_time": "2024-12-18T03:08:24.081Z"
   },
   {
    "duration": 11,
    "start_time": "2024-12-18T03:08:24.096Z"
   },
   {
    "duration": 7,
    "start_time": "2024-12-18T03:08:24.108Z"
   },
   {
    "duration": 206,
    "start_time": "2024-12-18T03:08:24.117Z"
   },
   {
    "duration": 6,
    "start_time": "2024-12-18T03:08:24.325Z"
   },
   {
    "duration": 167,
    "start_time": "2024-12-18T03:08:24.333Z"
   },
   {
    "duration": 7,
    "start_time": "2024-12-18T03:08:24.502Z"
   },
   {
    "duration": 19,
    "start_time": "2024-12-18T03:08:24.510Z"
   },
   {
    "duration": 188,
    "start_time": "2024-12-18T03:08:24.530Z"
   },
   {
    "duration": 54,
    "start_time": "2024-12-18T03:08:24.720Z"
   },
   {
    "duration": 8,
    "start_time": "2024-12-18T03:08:24.776Z"
   },
   {
    "duration": 665,
    "start_time": "2024-12-18T03:08:24.786Z"
   }
  ],
  "kernelspec": {
   "display_name": "Python 3 (ipykernel)",
   "language": "python",
   "name": "python3"
  },
  "language_info": {
   "codemirror_mode": {
    "name": "ipython",
    "version": 3
   },
   "file_extension": ".py",
   "mimetype": "text/x-python",
   "name": "python",
   "nbconvert_exporter": "python",
   "pygments_lexer": "ipython3",
   "version": "3.9.19"
  },
  "toc": {
   "base_numbering": 1,
   "nav_menu": {},
   "number_sections": true,
   "sideBar": true,
   "skip_h1_title": true,
   "title_cell": "Table of Contents",
   "title_sidebar": "Contents",
   "toc_cell": false,
   "toc_position": {},
   "toc_section_display": true,
   "toc_window_display": false
  }
 },
 "nbformat": 4,
 "nbformat_minor": 2
}
